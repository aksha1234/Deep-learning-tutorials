{
  "cells": [
    {
      "cell_type": "markdown",
      "metadata": {
        "id": "view-in-github",
        "colab_type": "text"
      },
      "source": [
        "<a href=\"https://colab.research.google.com/github/aksha1234/Deep-learning-tutorials/blob/main/code_06_XX_Incident_Root_Cause_Analysis_Exercise.ipynb\" target=\"_parent\"><img src=\"https://colab.research.google.com/assets/colab-badge.svg\" alt=\"Open In Colab\"/></a>"
      ]
    },
    {
      "cell_type": "markdown",
      "metadata": {
        "id": "DeR3miNaVRny"
      },
      "source": [
        "#  Incident Root Cause Analysis \n",
        "\n",
        "Incident Reports in ITOps usually states the symptoms. Identifying the root cause of the symptom quickly is a key determinant to reducing resolution times and improving user satisfaction."
      ]
    },
    {
      "cell_type": "markdown",
      "metadata": {
        "id": "jYPqYG2LVRn1"
      },
      "source": [
        "# 06.02. Preprocessing Incident Data\n",
        "\n",
        "### Loading the Dataset"
      ]
    },
    {
      "cell_type": "code",
      "execution_count": 96,
      "metadata": {
        "scrolled": true,
        "colab": {
          "base_uri": "https://localhost:8080/",
          "height": 380
        },
        "id": "N4HuxLxdVRn1",
        "outputId": "0ef71f37-a818-4dce-fa56-7bbe3af3a4db"
      },
      "outputs": [
        {
          "output_type": "stream",
          "name": "stdout",
          "text": [
            "ID                   int64\n",
            "CPU_LOAD             int64\n",
            "MEMORY_LEAK_LOAD     int64\n",
            "DELAY                int64\n",
            "ERROR_1000           int64\n",
            "ERROR_1001           int64\n",
            "ERROR_1002           int64\n",
            "ERROR_1003           int64\n",
            "ROOT_CAUSE          object\n",
            "dtype: object\n"
          ]
        },
        {
          "output_type": "execute_result",
          "data": {
            "text/html": [
              "\n",
              "  <div id=\"df-451b4c11-551a-4bf5-8644-6066535e08aa\">\n",
              "    <div class=\"colab-df-container\">\n",
              "      <div>\n",
              "<style scoped>\n",
              "    .dataframe tbody tr th:only-of-type {\n",
              "        vertical-align: middle;\n",
              "    }\n",
              "\n",
              "    .dataframe tbody tr th {\n",
              "        vertical-align: top;\n",
              "    }\n",
              "\n",
              "    .dataframe thead th {\n",
              "        text-align: right;\n",
              "    }\n",
              "</style>\n",
              "<table border=\"1\" class=\"dataframe\">\n",
              "  <thead>\n",
              "    <tr style=\"text-align: right;\">\n",
              "      <th></th>\n",
              "      <th>ID</th>\n",
              "      <th>CPU_LOAD</th>\n",
              "      <th>MEMORY_LEAK_LOAD</th>\n",
              "      <th>DELAY</th>\n",
              "      <th>ERROR_1000</th>\n",
              "      <th>ERROR_1001</th>\n",
              "      <th>ERROR_1002</th>\n",
              "      <th>ERROR_1003</th>\n",
              "      <th>ROOT_CAUSE</th>\n",
              "    </tr>\n",
              "  </thead>\n",
              "  <tbody>\n",
              "    <tr>\n",
              "      <th>0</th>\n",
              "      <td>1</td>\n",
              "      <td>0</td>\n",
              "      <td>0</td>\n",
              "      <td>0</td>\n",
              "      <td>0</td>\n",
              "      <td>1</td>\n",
              "      <td>0</td>\n",
              "      <td>1</td>\n",
              "      <td>MEMORY_LEAK</td>\n",
              "    </tr>\n",
              "    <tr>\n",
              "      <th>1</th>\n",
              "      <td>2</td>\n",
              "      <td>0</td>\n",
              "      <td>0</td>\n",
              "      <td>0</td>\n",
              "      <td>0</td>\n",
              "      <td>0</td>\n",
              "      <td>0</td>\n",
              "      <td>1</td>\n",
              "      <td>MEMORY_LEAK</td>\n",
              "    </tr>\n",
              "    <tr>\n",
              "      <th>2</th>\n",
              "      <td>3</td>\n",
              "      <td>0</td>\n",
              "      <td>1</td>\n",
              "      <td>1</td>\n",
              "      <td>0</td>\n",
              "      <td>0</td>\n",
              "      <td>1</td>\n",
              "      <td>1</td>\n",
              "      <td>MEMORY_LEAK</td>\n",
              "    </tr>\n",
              "    <tr>\n",
              "      <th>3</th>\n",
              "      <td>4</td>\n",
              "      <td>0</td>\n",
              "      <td>1</td>\n",
              "      <td>0</td>\n",
              "      <td>1</td>\n",
              "      <td>1</td>\n",
              "      <td>0</td>\n",
              "      <td>1</td>\n",
              "      <td>MEMORY_LEAK</td>\n",
              "    </tr>\n",
              "    <tr>\n",
              "      <th>4</th>\n",
              "      <td>5</td>\n",
              "      <td>1</td>\n",
              "      <td>1</td>\n",
              "      <td>0</td>\n",
              "      <td>1</td>\n",
              "      <td>0</td>\n",
              "      <td>1</td>\n",
              "      <td>0</td>\n",
              "      <td>NETWORK_DELAY</td>\n",
              "    </tr>\n",
              "  </tbody>\n",
              "</table>\n",
              "</div>\n",
              "      <button class=\"colab-df-convert\" onclick=\"convertToInteractive('df-451b4c11-551a-4bf5-8644-6066535e08aa')\"\n",
              "              title=\"Convert this dataframe to an interactive table.\"\n",
              "              style=\"display:none;\">\n",
              "        \n",
              "  <svg xmlns=\"http://www.w3.org/2000/svg\" height=\"24px\"viewBox=\"0 0 24 24\"\n",
              "       width=\"24px\">\n",
              "    <path d=\"M0 0h24v24H0V0z\" fill=\"none\"/>\n",
              "    <path d=\"M18.56 5.44l.94 2.06.94-2.06 2.06-.94-2.06-.94-.94-2.06-.94 2.06-2.06.94zm-11 1L8.5 8.5l.94-2.06 2.06-.94-2.06-.94L8.5 2.5l-.94 2.06-2.06.94zm10 10l.94 2.06.94-2.06 2.06-.94-2.06-.94-.94-2.06-.94 2.06-2.06.94z\"/><path d=\"M17.41 7.96l-1.37-1.37c-.4-.4-.92-.59-1.43-.59-.52 0-1.04.2-1.43.59L10.3 9.45l-7.72 7.72c-.78.78-.78 2.05 0 2.83L4 21.41c.39.39.9.59 1.41.59.51 0 1.02-.2 1.41-.59l7.78-7.78 2.81-2.81c.8-.78.8-2.07 0-2.86zM5.41 20L4 18.59l7.72-7.72 1.47 1.35L5.41 20z\"/>\n",
              "  </svg>\n",
              "      </button>\n",
              "      \n",
              "  <style>\n",
              "    .colab-df-container {\n",
              "      display:flex;\n",
              "      flex-wrap:wrap;\n",
              "      gap: 12px;\n",
              "    }\n",
              "\n",
              "    .colab-df-convert {\n",
              "      background-color: #E8F0FE;\n",
              "      border: none;\n",
              "      border-radius: 50%;\n",
              "      cursor: pointer;\n",
              "      display: none;\n",
              "      fill: #1967D2;\n",
              "      height: 32px;\n",
              "      padding: 0 0 0 0;\n",
              "      width: 32px;\n",
              "    }\n",
              "\n",
              "    .colab-df-convert:hover {\n",
              "      background-color: #E2EBFA;\n",
              "      box-shadow: 0px 1px 2px rgba(60, 64, 67, 0.3), 0px 1px 3px 1px rgba(60, 64, 67, 0.15);\n",
              "      fill: #174EA6;\n",
              "    }\n",
              "\n",
              "    [theme=dark] .colab-df-convert {\n",
              "      background-color: #3B4455;\n",
              "      fill: #D2E3FC;\n",
              "    }\n",
              "\n",
              "    [theme=dark] .colab-df-convert:hover {\n",
              "      background-color: #434B5C;\n",
              "      box-shadow: 0px 1px 3px 1px rgba(0, 0, 0, 0.15);\n",
              "      filter: drop-shadow(0px 1px 2px rgba(0, 0, 0, 0.3));\n",
              "      fill: #FFFFFF;\n",
              "    }\n",
              "  </style>\n",
              "\n",
              "      <script>\n",
              "        const buttonEl =\n",
              "          document.querySelector('#df-451b4c11-551a-4bf5-8644-6066535e08aa button.colab-df-convert');\n",
              "        buttonEl.style.display =\n",
              "          google.colab.kernel.accessAllowed ? 'block' : 'none';\n",
              "\n",
              "        async function convertToInteractive(key) {\n",
              "          const element = document.querySelector('#df-451b4c11-551a-4bf5-8644-6066535e08aa');\n",
              "          const dataTable =\n",
              "            await google.colab.kernel.invokeFunction('convertToInteractive',\n",
              "                                                     [key], {});\n",
              "          if (!dataTable) return;\n",
              "\n",
              "          const docLinkHtml = 'Like what you see? Visit the ' +\n",
              "            '<a target=\"_blank\" href=https://colab.research.google.com/notebooks/data_table.ipynb>data table notebook</a>'\n",
              "            + ' to learn more about interactive tables.';\n",
              "          element.innerHTML = '';\n",
              "          dataTable['output_type'] = 'display_data';\n",
              "          await google.colab.output.renderOutput(dataTable, element);\n",
              "          const docLink = document.createElement('div');\n",
              "          docLink.innerHTML = docLinkHtml;\n",
              "          element.appendChild(docLink);\n",
              "        }\n",
              "      </script>\n",
              "    </div>\n",
              "  </div>\n",
              "  "
            ],
            "text/plain": [
              "   ID  CPU_LOAD  MEMORY_LEAK_LOAD  ...  ERROR_1002  ERROR_1003     ROOT_CAUSE\n",
              "0   1         0                 0  ...           0           1    MEMORY_LEAK\n",
              "1   2         0                 0  ...           0           1    MEMORY_LEAK\n",
              "2   3         0                 1  ...           1           1    MEMORY_LEAK\n",
              "3   4         0                 1  ...           0           1    MEMORY_LEAK\n",
              "4   5         1                 1  ...           1           0  NETWORK_DELAY\n",
              "\n",
              "[5 rows x 9 columns]"
            ]
          },
          "metadata": {},
          "execution_count": 96
        }
      ],
      "source": [
        "import pandas as pd\n",
        "import os\n",
        "import tensorflow as tf\n",
        "\n",
        "url='https://raw.githubusercontent.com/aksha1234/Deep-learning-tutorials/main/root_cause_analysis.csv'\n",
        "\n",
        "#Load the data file into a Pandas Dataframe\n",
        "symptom_data = pd.read_csv(url)\n",
        "\n",
        "#Explore the data loaded\n",
        "print(symptom_data.dtypes)\n",
        "symptom_data.head()"
      ]
    },
    {
      "cell_type": "markdown",
      "metadata": {
        "id": "FVon31XOVRn4"
      },
      "source": [
        "### Convert  data\n",
        "\n",
        "Input data needs to be converted to formats that can be consumed by ML algorithms"
      ]
    },
    {
      "cell_type": "code",
      "execution_count": 97,
      "metadata": {
        "colab": {
          "base_uri": "https://localhost:8080/"
        },
        "id": "1-ND04cPVRn5",
        "outputId": "9a12e90e-6c3f-4302-a4ad-7e3e2acec99d"
      },
      "outputs": [
        {
          "output_type": "stream",
          "name": "stdout",
          "text": [
            "Shape of feature variables : (900, 7)\n",
            "Shape of target variable : (900, 3)\n"
          ]
        }
      ],
      "source": [
        "from sklearn import preprocessing\n",
        "from sklearn.model_selection import train_test_split\n",
        "\n",
        "label_encoder = preprocessing.LabelEncoder()\n",
        "symptom_data['ROOT_CAUSE'] = label_encoder.fit_transform(\n",
        "                                symptom_data['ROOT_CAUSE'])\n",
        "\n",
        "#Convert Pandas DataFrame to a numpy vector\n",
        "np_symptom = symptom_data.to_numpy().astype(float)\n",
        "\n",
        "#Extract the feature variables (X)\n",
        "X_data = np_symptom[:,1:8]\n",
        "\n",
        "#Extract the target variable (Y), conver to one-hot-encodign\n",
        "Y_data=np_symptom[:,8]\n",
        "Y_data = tf.keras.utils.to_categorical(Y_data,3)\n",
        "\n",
        "#Split training and test data\n",
        "X_train,X_test,Y_train,Y_test = train_test_split( X_data, Y_data, test_size=0.10)\n",
        "\n",
        "print(\"Shape of feature variables :\", X_train.shape)\n",
        "print(\"Shape of target variable :\",Y_train.shape)"
      ]
    },
    {
      "cell_type": "markdown",
      "metadata": {
        "id": "zcz4FDxVVRn6"
      },
      "source": [
        "## 06.03. Building and evaluating the model"
      ]
    },
    {
      "cell_type": "code",
      "execution_count": 98,
      "metadata": {
        "colab": {
          "base_uri": "https://localhost:8080/"
        },
        "id": "405PZ-KpVRn6",
        "outputId": "d4835c7c-bea7-4f86-e1f3-c0898ed4f06f"
      },
      "outputs": [
        {
          "output_type": "stream",
          "name": "stdout",
          "text": [
            "Model: \"sequential_17\"\n",
            "_________________________________________________________________\n",
            " Layer (type)                Output Shape              Param #   \n",
            "=================================================================\n",
            " Dense-Layer-1 (Dense)       (None, 128)               1024      \n",
            "                                                                 \n",
            " Dense-Layer-2 (Dense)       (None, 128)               16512     \n",
            "                                                                 \n",
            " Final (Dense)               (None, 3)                 387       \n",
            "                                                                 \n",
            "=================================================================\n",
            "Total params: 17,923\n",
            "Trainable params: 17,923\n",
            "Non-trainable params: 0\n",
            "_________________________________________________________________\n",
            "Epoch 1/20\n",
            "12/12 [==============================] - 1s 17ms/step - loss: 0.9016 - accuracy: 0.6931 - val_loss: 0.6964 - val_accuracy: 0.8278\n",
            "Epoch 2/20\n",
            "12/12 [==============================] - 0s 3ms/step - loss: 0.6604 - accuracy: 0.7653 - val_loss: 0.5240 - val_accuracy: 0.8333\n",
            "Epoch 3/20\n",
            "12/12 [==============================] - 0s 4ms/step - loss: 0.5546 - accuracy: 0.7889 - val_loss: 0.4531 - val_accuracy: 0.8500\n",
            "Epoch 4/20\n",
            "12/12 [==============================] - 0s 4ms/step - loss: 0.5140 - accuracy: 0.8000 - val_loss: 0.4375 - val_accuracy: 0.8667\n",
            "Epoch 5/20\n",
            "12/12 [==============================] - 0s 4ms/step - loss: 0.4991 - accuracy: 0.8083 - val_loss: 0.4180 - val_accuracy: 0.8389\n",
            "Epoch 6/20\n",
            "12/12 [==============================] - 0s 4ms/step - loss: 0.4774 - accuracy: 0.8097 - val_loss: 0.4129 - val_accuracy: 0.8667\n",
            "Epoch 7/20\n",
            "12/12 [==============================] - 0s 3ms/step - loss: 0.4750 - accuracy: 0.8194 - val_loss: 0.4064 - val_accuracy: 0.8778\n",
            "Epoch 8/20\n",
            "12/12 [==============================] - 0s 4ms/step - loss: 0.4689 - accuracy: 0.8125 - val_loss: 0.4011 - val_accuracy: 0.8722\n",
            "Epoch 9/20\n",
            "12/12 [==============================] - 0s 4ms/step - loss: 0.4643 - accuracy: 0.8111 - val_loss: 0.3988 - val_accuracy: 0.8778\n",
            "Epoch 10/20\n",
            "12/12 [==============================] - 0s 4ms/step - loss: 0.4598 - accuracy: 0.8236 - val_loss: 0.4053 - val_accuracy: 0.8722\n",
            "Epoch 11/20\n",
            "12/12 [==============================] - 0s 4ms/step - loss: 0.4495 - accuracy: 0.8208 - val_loss: 0.4024 - val_accuracy: 0.8500\n",
            "Epoch 12/20\n",
            "12/12 [==============================] - 0s 6ms/step - loss: 0.4436 - accuracy: 0.8139 - val_loss: 0.4430 - val_accuracy: 0.8333\n",
            "Epoch 13/20\n",
            "12/12 [==============================] - 0s 4ms/step - loss: 0.4462 - accuracy: 0.8361 - val_loss: 0.4013 - val_accuracy: 0.8444\n",
            "Epoch 14/20\n",
            "12/12 [==============================] - 0s 4ms/step - loss: 0.4355 - accuracy: 0.8250 - val_loss: 0.3977 - val_accuracy: 0.8389\n",
            "Epoch 15/20\n",
            "12/12 [==============================] - 0s 4ms/step - loss: 0.4355 - accuracy: 0.8264 - val_loss: 0.3814 - val_accuracy: 0.8833\n",
            "Epoch 16/20\n",
            "12/12 [==============================] - 0s 5ms/step - loss: 0.4281 - accuracy: 0.8319 - val_loss: 0.3919 - val_accuracy: 0.8389\n",
            "Epoch 17/20\n",
            "12/12 [==============================] - 0s 4ms/step - loss: 0.4222 - accuracy: 0.8306 - val_loss: 0.3964 - val_accuracy: 0.8500\n",
            "Epoch 18/20\n",
            "12/12 [==============================] - 0s 6ms/step - loss: 0.4194 - accuracy: 0.8347 - val_loss: 0.3807 - val_accuracy: 0.8889\n",
            "Epoch 19/20\n",
            "12/12 [==============================] - 0s 4ms/step - loss: 0.4177 - accuracy: 0.8306 - val_loss: 0.3801 - val_accuracy: 0.8778\n",
            "Epoch 20/20\n",
            "12/12 [==============================] - 0s 4ms/step - loss: 0.4141 - accuracy: 0.8319 - val_loss: 0.3908 - val_accuracy: 0.8667\n",
            "\n",
            "Evaluation against Test Dataset :\n",
            "------------------------------------\n",
            "4/4 [==============================] - 0s 3ms/step - loss: 0.2808 - accuracy: 0.9000\n"
          ]
        },
        {
          "output_type": "execute_result",
          "data": {
            "text/plain": [
              "[0.28078481554985046, 0.8999999761581421]"
            ]
          },
          "metadata": {},
          "execution_count": 98
        }
      ],
      "source": [
        "from tensorflow import keras\n",
        "from tensorflow.keras import optimizers\n",
        "from tensorflow.keras.regularizers import l2\n",
        "\n",
        "#Setup Training Parameters\n",
        "EPOCHS=20\n",
        "BATCH_SIZE=64\n",
        "VERBOSE=1\n",
        "OUTPUT_CLASSES=len(label_encoder.classes_)\n",
        "N_HIDDEN=128\n",
        "VALIDATION_SPLIT=0.2\n",
        "\n",
        "#Create a Keras sequential model\n",
        "model = tf.keras.models.Sequential()\n",
        "#Add a Dense Layer\n",
        "model.add(keras.layers.Dense(N_HIDDEN,\n",
        "                             input_shape=(7,),\n",
        "                              name='Dense-Layer-1',\n",
        "                              activation='relu'))\n",
        "\n",
        "#Add a second dense layer\n",
        "model.add(keras.layers.Dense(N_HIDDEN,\n",
        "                              name='Dense-Layer-2',\n",
        "                              activation='relu'))\n",
        "\n",
        "#Add a softmax layer for categorial prediction\n",
        "model.add(keras.layers.Dense(OUTPUT_CLASSES,\n",
        "                             name='Final',\n",
        "                             activation='softmax'))\n",
        "\n",
        "#Compile the model\n",
        "model.compile(\n",
        "              loss='categorical_crossentropy',\n",
        "              metrics=['accuracy'])\n",
        "\n",
        "\n",
        "model.summary()\n",
        "\n",
        "#Build the model\n",
        "model.fit(X_train,\n",
        "          Y_train,\n",
        "          batch_size=BATCH_SIZE,\n",
        "          epochs=EPOCHS,\n",
        "          verbose=VERBOSE,\n",
        "          validation_split=VALIDATION_SPLIT)\n",
        "\n",
        "\n",
        "#Evaluate the model against the test dataset and print results\n",
        "print(\"\\nEvaluation against Test Dataset :\\n------------------------------------\")\n",
        "model.evaluate(X_test,Y_test)"
      ]
    },
    {
      "cell_type": "markdown",
      "metadata": {
        "id": "KMoqAaDEVRn8"
      },
      "source": [
        "## 06.04. Predicting Root Causes"
      ]
    },
    {
      "cell_type": "code",
      "execution_count": 99,
      "metadata": {
        "colab": {
          "base_uri": "https://localhost:8080/"
        },
        "id": "SjJt_SYEVRn8",
        "outputId": "9ca7ac02-a13d-40d4-bbc8-17e69d09b0b4"
      },
      "outputs": [
        {
          "output_type": "stream",
          "name": "stdout",
          "text": [
            "['DATABASE_ISSUE']\n"
          ]
        }
      ],
      "source": [
        "#Pass individual flags to Predict the root cause\n",
        "import numpy as np\n",
        "\n",
        "CPU_LOAD=1\n",
        "MEMORY_LOAD=0\n",
        "DELAY=0\n",
        "ERROR_1000=0\n",
        "ERROR_1001=1\n",
        "ERROR_1002=1\n",
        "ERROR_1003=0\n",
        "\n",
        "prediction=np.argmax(model.predict(\n",
        "    [[CPU_LOAD,MEMORY_LOAD,DELAY,\n",
        "      ERROR_1000,ERROR_1001,ERROR_1002,ERROR_1003]]), axis=1 )\n",
        "\n",
        "print(label_encoder.inverse_transform(prediction))"
      ]
    },
    {
      "cell_type": "code",
      "execution_count": 100,
      "metadata": {
        "colab": {
          "base_uri": "https://localhost:8080/"
        },
        "id": "12rHjFeNVRn9",
        "outputId": "707c1c4c-73d2-49f4-fdb2-13120985dabc"
      },
      "outputs": [
        {
          "output_type": "stream",
          "name": "stdout",
          "text": [
            "['DATABASE_ISSUE' 'NETWORK_DELAY' 'MEMORY_LEAK' 'DATABASE_ISSUE'\n",
            " 'DATABASE_ISSUE']\n"
          ]
        }
      ],
      "source": [
        "#Predicting as a Batch\n",
        "print(label_encoder.inverse_transform(np.argmax(\n",
        "        model.predict([[1,0,0,0,1,1,0],\n",
        "                                [0,1,1,1,0,0,0],\n",
        "                                [1,1,0,1,1,0,1],\n",
        "                                [0,0,0,0,0,1,0],\n",
        "                                [1,0,1,0,1,1,1]]), axis=1 )))"
      ]
    },
    {
      "cell_type": "code",
      "execution_count": 101,
      "metadata": {
        "id": "shJV2PQeVRn-"
      },
      "outputs": [],
      "source": [
        "df=pd.read_csv(url)"
      ]
    },
    {
      "cell_type": "code",
      "source": [
        "df.info()"
      ],
      "metadata": {
        "colab": {
          "base_uri": "https://localhost:8080/"
        },
        "id": "9iJ1icLOWwRi",
        "outputId": "f02492b5-c88a-4ebc-97a8-698f00fc716b"
      },
      "execution_count": 102,
      "outputs": [
        {
          "output_type": "stream",
          "name": "stdout",
          "text": [
            "<class 'pandas.core.frame.DataFrame'>\n",
            "RangeIndex: 1000 entries, 0 to 999\n",
            "Data columns (total 9 columns):\n",
            " #   Column            Non-Null Count  Dtype \n",
            "---  ------            --------------  ----- \n",
            " 0   ID                1000 non-null   int64 \n",
            " 1   CPU_LOAD          1000 non-null   int64 \n",
            " 2   MEMORY_LEAK_LOAD  1000 non-null   int64 \n",
            " 3   DELAY             1000 non-null   int64 \n",
            " 4   ERROR_1000        1000 non-null   int64 \n",
            " 5   ERROR_1001        1000 non-null   int64 \n",
            " 6   ERROR_1002        1000 non-null   int64 \n",
            " 7   ERROR_1003        1000 non-null   int64 \n",
            " 8   ROOT_CAUSE        1000 non-null   object\n",
            "dtypes: int64(8), object(1)\n",
            "memory usage: 70.4+ KB\n"
          ]
        }
      ]
    },
    {
      "cell_type": "code",
      "source": [
        "df.head(5)"
      ],
      "metadata": {
        "colab": {
          "base_uri": "https://localhost:8080/",
          "height": 206
        },
        "id": "1CHEk_WfYXTN",
        "outputId": "18cc7173-8e88-4df0-dec8-4b93942e851d"
      },
      "execution_count": 103,
      "outputs": [
        {
          "output_type": "execute_result",
          "data": {
            "text/html": [
              "\n",
              "  <div id=\"df-135b7a9e-04b8-4f19-8f04-fe56b1fcf987\">\n",
              "    <div class=\"colab-df-container\">\n",
              "      <div>\n",
              "<style scoped>\n",
              "    .dataframe tbody tr th:only-of-type {\n",
              "        vertical-align: middle;\n",
              "    }\n",
              "\n",
              "    .dataframe tbody tr th {\n",
              "        vertical-align: top;\n",
              "    }\n",
              "\n",
              "    .dataframe thead th {\n",
              "        text-align: right;\n",
              "    }\n",
              "</style>\n",
              "<table border=\"1\" class=\"dataframe\">\n",
              "  <thead>\n",
              "    <tr style=\"text-align: right;\">\n",
              "      <th></th>\n",
              "      <th>ID</th>\n",
              "      <th>CPU_LOAD</th>\n",
              "      <th>MEMORY_LEAK_LOAD</th>\n",
              "      <th>DELAY</th>\n",
              "      <th>ERROR_1000</th>\n",
              "      <th>ERROR_1001</th>\n",
              "      <th>ERROR_1002</th>\n",
              "      <th>ERROR_1003</th>\n",
              "      <th>ROOT_CAUSE</th>\n",
              "    </tr>\n",
              "  </thead>\n",
              "  <tbody>\n",
              "    <tr>\n",
              "      <th>0</th>\n",
              "      <td>1</td>\n",
              "      <td>0</td>\n",
              "      <td>0</td>\n",
              "      <td>0</td>\n",
              "      <td>0</td>\n",
              "      <td>1</td>\n",
              "      <td>0</td>\n",
              "      <td>1</td>\n",
              "      <td>MEMORY_LEAK</td>\n",
              "    </tr>\n",
              "    <tr>\n",
              "      <th>1</th>\n",
              "      <td>2</td>\n",
              "      <td>0</td>\n",
              "      <td>0</td>\n",
              "      <td>0</td>\n",
              "      <td>0</td>\n",
              "      <td>0</td>\n",
              "      <td>0</td>\n",
              "      <td>1</td>\n",
              "      <td>MEMORY_LEAK</td>\n",
              "    </tr>\n",
              "    <tr>\n",
              "      <th>2</th>\n",
              "      <td>3</td>\n",
              "      <td>0</td>\n",
              "      <td>1</td>\n",
              "      <td>1</td>\n",
              "      <td>0</td>\n",
              "      <td>0</td>\n",
              "      <td>1</td>\n",
              "      <td>1</td>\n",
              "      <td>MEMORY_LEAK</td>\n",
              "    </tr>\n",
              "    <tr>\n",
              "      <th>3</th>\n",
              "      <td>4</td>\n",
              "      <td>0</td>\n",
              "      <td>1</td>\n",
              "      <td>0</td>\n",
              "      <td>1</td>\n",
              "      <td>1</td>\n",
              "      <td>0</td>\n",
              "      <td>1</td>\n",
              "      <td>MEMORY_LEAK</td>\n",
              "    </tr>\n",
              "    <tr>\n",
              "      <th>4</th>\n",
              "      <td>5</td>\n",
              "      <td>1</td>\n",
              "      <td>1</td>\n",
              "      <td>0</td>\n",
              "      <td>1</td>\n",
              "      <td>0</td>\n",
              "      <td>1</td>\n",
              "      <td>0</td>\n",
              "      <td>NETWORK_DELAY</td>\n",
              "    </tr>\n",
              "  </tbody>\n",
              "</table>\n",
              "</div>\n",
              "      <button class=\"colab-df-convert\" onclick=\"convertToInteractive('df-135b7a9e-04b8-4f19-8f04-fe56b1fcf987')\"\n",
              "              title=\"Convert this dataframe to an interactive table.\"\n",
              "              style=\"display:none;\">\n",
              "        \n",
              "  <svg xmlns=\"http://www.w3.org/2000/svg\" height=\"24px\"viewBox=\"0 0 24 24\"\n",
              "       width=\"24px\">\n",
              "    <path d=\"M0 0h24v24H0V0z\" fill=\"none\"/>\n",
              "    <path d=\"M18.56 5.44l.94 2.06.94-2.06 2.06-.94-2.06-.94-.94-2.06-.94 2.06-2.06.94zm-11 1L8.5 8.5l.94-2.06 2.06-.94-2.06-.94L8.5 2.5l-.94 2.06-2.06.94zm10 10l.94 2.06.94-2.06 2.06-.94-2.06-.94-.94-2.06-.94 2.06-2.06.94z\"/><path d=\"M17.41 7.96l-1.37-1.37c-.4-.4-.92-.59-1.43-.59-.52 0-1.04.2-1.43.59L10.3 9.45l-7.72 7.72c-.78.78-.78 2.05 0 2.83L4 21.41c.39.39.9.59 1.41.59.51 0 1.02-.2 1.41-.59l7.78-7.78 2.81-2.81c.8-.78.8-2.07 0-2.86zM5.41 20L4 18.59l7.72-7.72 1.47 1.35L5.41 20z\"/>\n",
              "  </svg>\n",
              "      </button>\n",
              "      \n",
              "  <style>\n",
              "    .colab-df-container {\n",
              "      display:flex;\n",
              "      flex-wrap:wrap;\n",
              "      gap: 12px;\n",
              "    }\n",
              "\n",
              "    .colab-df-convert {\n",
              "      background-color: #E8F0FE;\n",
              "      border: none;\n",
              "      border-radius: 50%;\n",
              "      cursor: pointer;\n",
              "      display: none;\n",
              "      fill: #1967D2;\n",
              "      height: 32px;\n",
              "      padding: 0 0 0 0;\n",
              "      width: 32px;\n",
              "    }\n",
              "\n",
              "    .colab-df-convert:hover {\n",
              "      background-color: #E2EBFA;\n",
              "      box-shadow: 0px 1px 2px rgba(60, 64, 67, 0.3), 0px 1px 3px 1px rgba(60, 64, 67, 0.15);\n",
              "      fill: #174EA6;\n",
              "    }\n",
              "\n",
              "    [theme=dark] .colab-df-convert {\n",
              "      background-color: #3B4455;\n",
              "      fill: #D2E3FC;\n",
              "    }\n",
              "\n",
              "    [theme=dark] .colab-df-convert:hover {\n",
              "      background-color: #434B5C;\n",
              "      box-shadow: 0px 1px 3px 1px rgba(0, 0, 0, 0.15);\n",
              "      filter: drop-shadow(0px 1px 2px rgba(0, 0, 0, 0.3));\n",
              "      fill: #FFFFFF;\n",
              "    }\n",
              "  </style>\n",
              "\n",
              "      <script>\n",
              "        const buttonEl =\n",
              "          document.querySelector('#df-135b7a9e-04b8-4f19-8f04-fe56b1fcf987 button.colab-df-convert');\n",
              "        buttonEl.style.display =\n",
              "          google.colab.kernel.accessAllowed ? 'block' : 'none';\n",
              "\n",
              "        async function convertToInteractive(key) {\n",
              "          const element = document.querySelector('#df-135b7a9e-04b8-4f19-8f04-fe56b1fcf987');\n",
              "          const dataTable =\n",
              "            await google.colab.kernel.invokeFunction('convertToInteractive',\n",
              "                                                     [key], {});\n",
              "          if (!dataTable) return;\n",
              "\n",
              "          const docLinkHtml = 'Like what you see? Visit the ' +\n",
              "            '<a target=\"_blank\" href=https://colab.research.google.com/notebooks/data_table.ipynb>data table notebook</a>'\n",
              "            + ' to learn more about interactive tables.';\n",
              "          element.innerHTML = '';\n",
              "          dataTable['output_type'] = 'display_data';\n",
              "          await google.colab.output.renderOutput(dataTable, element);\n",
              "          const docLink = document.createElement('div');\n",
              "          docLink.innerHTML = docLinkHtml;\n",
              "          element.appendChild(docLink);\n",
              "        }\n",
              "      </script>\n",
              "    </div>\n",
              "  </div>\n",
              "  "
            ],
            "text/plain": [
              "   ID  CPU_LOAD  MEMORY_LEAK_LOAD  ...  ERROR_1002  ERROR_1003     ROOT_CAUSE\n",
              "0   1         0                 0  ...           0           1    MEMORY_LEAK\n",
              "1   2         0                 0  ...           0           1    MEMORY_LEAK\n",
              "2   3         0                 1  ...           1           1    MEMORY_LEAK\n",
              "3   4         0                 1  ...           0           1    MEMORY_LEAK\n",
              "4   5         1                 1  ...           1           0  NETWORK_DELAY\n",
              "\n",
              "[5 rows x 9 columns]"
            ]
          },
          "metadata": {},
          "execution_count": 103
        }
      ]
    },
    {
      "cell_type": "code",
      "source": [
        "df.ROOT_CAUSE.value_counts()"
      ],
      "metadata": {
        "colab": {
          "base_uri": "https://localhost:8080/"
        },
        "id": "rWVkMnYiW3rf",
        "outputId": "466c65f2-c9fa-42aa-ad65-a4afb8c01057"
      },
      "execution_count": 104,
      "outputs": [
        {
          "output_type": "execute_result",
          "data": {
            "text/plain": [
              "DATABASE_ISSUE    340\n",
              "NETWORK_DELAY     337\n",
              "MEMORY_LEAK       323\n",
              "Name: ROOT_CAUSE, dtype: int64"
            ]
          },
          "metadata": {},
          "execution_count": 104
        }
      ]
    },
    {
      "cell_type": "code",
      "source": [
        "input_cols=df.columns.tolist()[1:-1]"
      ],
      "metadata": {
        "id": "PH0cCxfNW9Qy"
      },
      "execution_count": 105,
      "outputs": []
    },
    {
      "cell_type": "code",
      "source": [
        "target_col=df.columns.tolist()[-1]"
      ],
      "metadata": {
        "id": "N2ybaX25Yc5w"
      },
      "execution_count": 106,
      "outputs": []
    },
    {
      "cell_type": "code",
      "source": [
        "from sklearn.preprocessing import StandardScaler"
      ],
      "metadata": {
        "id": "QzReIlUiYhPb"
      },
      "execution_count": 107,
      "outputs": []
    },
    {
      "cell_type": "code",
      "source": [
        "scaler=StandardScaler().fit(df[input_cols])"
      ],
      "metadata": {
        "id": "pFhgJYXIYpdt"
      },
      "execution_count": 108,
      "outputs": []
    },
    {
      "cell_type": "code",
      "source": [
        "df[input_cols]=scaler.transform(df[input_cols])"
      ],
      "metadata": {
        "id": "aBP4HdtKYuX2"
      },
      "execution_count": 109,
      "outputs": []
    },
    {
      "cell_type": "code",
      "source": [
        "df"
      ],
      "metadata": {
        "colab": {
          "base_uri": "https://localhost:8080/",
          "height": 424
        },
        "id": "Rb6Q9xCtY3mg",
        "outputId": "57f2c046-f8a9-4e7f-db33-6f4bf74a0284"
      },
      "execution_count": 110,
      "outputs": [
        {
          "output_type": "execute_result",
          "data": {
            "text/html": [
              "\n",
              "  <div id=\"df-bbbe03a7-56f3-4dc1-8d52-8fddedea2a94\">\n",
              "    <div class=\"colab-df-container\">\n",
              "      <div>\n",
              "<style scoped>\n",
              "    .dataframe tbody tr th:only-of-type {\n",
              "        vertical-align: middle;\n",
              "    }\n",
              "\n",
              "    .dataframe tbody tr th {\n",
              "        vertical-align: top;\n",
              "    }\n",
              "\n",
              "    .dataframe thead th {\n",
              "        text-align: right;\n",
              "    }\n",
              "</style>\n",
              "<table border=\"1\" class=\"dataframe\">\n",
              "  <thead>\n",
              "    <tr style=\"text-align: right;\">\n",
              "      <th></th>\n",
              "      <th>ID</th>\n",
              "      <th>CPU_LOAD</th>\n",
              "      <th>MEMORY_LEAK_LOAD</th>\n",
              "      <th>DELAY</th>\n",
              "      <th>ERROR_1000</th>\n",
              "      <th>ERROR_1001</th>\n",
              "      <th>ERROR_1002</th>\n",
              "      <th>ERROR_1003</th>\n",
              "      <th>ROOT_CAUSE</th>\n",
              "    </tr>\n",
              "  </thead>\n",
              "  <tbody>\n",
              "    <tr>\n",
              "      <th>0</th>\n",
              "      <td>1</td>\n",
              "      <td>-0.945484</td>\n",
              "      <td>-0.847475</td>\n",
              "      <td>-0.806328</td>\n",
              "      <td>-0.808018</td>\n",
              "      <td>1.030464</td>\n",
              "      <td>-0.872103</td>\n",
              "      <td>1.274626</td>\n",
              "      <td>MEMORY_LEAK</td>\n",
              "    </tr>\n",
              "    <tr>\n",
              "      <th>1</th>\n",
              "      <td>2</td>\n",
              "      <td>-0.945484</td>\n",
              "      <td>-0.847475</td>\n",
              "      <td>-0.806328</td>\n",
              "      <td>-0.808018</td>\n",
              "      <td>-0.970437</td>\n",
              "      <td>-0.872103</td>\n",
              "      <td>1.274626</td>\n",
              "      <td>MEMORY_LEAK</td>\n",
              "    </tr>\n",
              "    <tr>\n",
              "      <th>2</th>\n",
              "      <td>3</td>\n",
              "      <td>-0.945484</td>\n",
              "      <td>1.179976</td>\n",
              "      <td>1.240190</td>\n",
              "      <td>-0.808018</td>\n",
              "      <td>-0.970437</td>\n",
              "      <td>1.146654</td>\n",
              "      <td>1.274626</td>\n",
              "      <td>MEMORY_LEAK</td>\n",
              "    </tr>\n",
              "    <tr>\n",
              "      <th>3</th>\n",
              "      <td>4</td>\n",
              "      <td>-0.945484</td>\n",
              "      <td>1.179976</td>\n",
              "      <td>-0.806328</td>\n",
              "      <td>1.237597</td>\n",
              "      <td>1.030464</td>\n",
              "      <td>-0.872103</td>\n",
              "      <td>1.274626</td>\n",
              "      <td>MEMORY_LEAK</td>\n",
              "    </tr>\n",
              "    <tr>\n",
              "      <th>4</th>\n",
              "      <td>5</td>\n",
              "      <td>1.057660</td>\n",
              "      <td>1.179976</td>\n",
              "      <td>-0.806328</td>\n",
              "      <td>1.237597</td>\n",
              "      <td>-0.970437</td>\n",
              "      <td>1.146654</td>\n",
              "      <td>-0.784544</td>\n",
              "      <td>NETWORK_DELAY</td>\n",
              "    </tr>\n",
              "    <tr>\n",
              "      <th>...</th>\n",
              "      <td>...</td>\n",
              "      <td>...</td>\n",
              "      <td>...</td>\n",
              "      <td>...</td>\n",
              "      <td>...</td>\n",
              "      <td>...</td>\n",
              "      <td>...</td>\n",
              "      <td>...</td>\n",
              "      <td>...</td>\n",
              "    </tr>\n",
              "    <tr>\n",
              "      <th>995</th>\n",
              "      <td>996</td>\n",
              "      <td>-0.945484</td>\n",
              "      <td>-0.847475</td>\n",
              "      <td>-0.806328</td>\n",
              "      <td>-0.808018</td>\n",
              "      <td>-0.970437</td>\n",
              "      <td>-0.872103</td>\n",
              "      <td>1.274626</td>\n",
              "      <td>DATABASE_ISSUE</td>\n",
              "    </tr>\n",
              "    <tr>\n",
              "      <th>996</th>\n",
              "      <td>997</td>\n",
              "      <td>-0.945484</td>\n",
              "      <td>-0.847475</td>\n",
              "      <td>-0.806328</td>\n",
              "      <td>1.237597</td>\n",
              "      <td>-0.970437</td>\n",
              "      <td>-0.872103</td>\n",
              "      <td>-0.784544</td>\n",
              "      <td>NETWORK_DELAY</td>\n",
              "    </tr>\n",
              "    <tr>\n",
              "      <th>997</th>\n",
              "      <td>998</td>\n",
              "      <td>1.057660</td>\n",
              "      <td>1.179976</td>\n",
              "      <td>1.240190</td>\n",
              "      <td>-0.808018</td>\n",
              "      <td>-0.970437</td>\n",
              "      <td>-0.872103</td>\n",
              "      <td>-0.784544</td>\n",
              "      <td>MEMORY_LEAK</td>\n",
              "    </tr>\n",
              "    <tr>\n",
              "      <th>998</th>\n",
              "      <td>999</td>\n",
              "      <td>-0.945484</td>\n",
              "      <td>1.179976</td>\n",
              "      <td>1.240190</td>\n",
              "      <td>1.237597</td>\n",
              "      <td>1.030464</td>\n",
              "      <td>-0.872103</td>\n",
              "      <td>-0.784544</td>\n",
              "      <td>NETWORK_DELAY</td>\n",
              "    </tr>\n",
              "    <tr>\n",
              "      <th>999</th>\n",
              "      <td>1000</td>\n",
              "      <td>1.057660</td>\n",
              "      <td>-0.847475</td>\n",
              "      <td>-0.806328</td>\n",
              "      <td>-0.808018</td>\n",
              "      <td>1.030464</td>\n",
              "      <td>1.146654</td>\n",
              "      <td>-0.784544</td>\n",
              "      <td>DATABASE_ISSUE</td>\n",
              "    </tr>\n",
              "  </tbody>\n",
              "</table>\n",
              "<p>1000 rows × 9 columns</p>\n",
              "</div>\n",
              "      <button class=\"colab-df-convert\" onclick=\"convertToInteractive('df-bbbe03a7-56f3-4dc1-8d52-8fddedea2a94')\"\n",
              "              title=\"Convert this dataframe to an interactive table.\"\n",
              "              style=\"display:none;\">\n",
              "        \n",
              "  <svg xmlns=\"http://www.w3.org/2000/svg\" height=\"24px\"viewBox=\"0 0 24 24\"\n",
              "       width=\"24px\">\n",
              "    <path d=\"M0 0h24v24H0V0z\" fill=\"none\"/>\n",
              "    <path d=\"M18.56 5.44l.94 2.06.94-2.06 2.06-.94-2.06-.94-.94-2.06-.94 2.06-2.06.94zm-11 1L8.5 8.5l.94-2.06 2.06-.94-2.06-.94L8.5 2.5l-.94 2.06-2.06.94zm10 10l.94 2.06.94-2.06 2.06-.94-2.06-.94-.94-2.06-.94 2.06-2.06.94z\"/><path d=\"M17.41 7.96l-1.37-1.37c-.4-.4-.92-.59-1.43-.59-.52 0-1.04.2-1.43.59L10.3 9.45l-7.72 7.72c-.78.78-.78 2.05 0 2.83L4 21.41c.39.39.9.59 1.41.59.51 0 1.02-.2 1.41-.59l7.78-7.78 2.81-2.81c.8-.78.8-2.07 0-2.86zM5.41 20L4 18.59l7.72-7.72 1.47 1.35L5.41 20z\"/>\n",
              "  </svg>\n",
              "      </button>\n",
              "      \n",
              "  <style>\n",
              "    .colab-df-container {\n",
              "      display:flex;\n",
              "      flex-wrap:wrap;\n",
              "      gap: 12px;\n",
              "    }\n",
              "\n",
              "    .colab-df-convert {\n",
              "      background-color: #E8F0FE;\n",
              "      border: none;\n",
              "      border-radius: 50%;\n",
              "      cursor: pointer;\n",
              "      display: none;\n",
              "      fill: #1967D2;\n",
              "      height: 32px;\n",
              "      padding: 0 0 0 0;\n",
              "      width: 32px;\n",
              "    }\n",
              "\n",
              "    .colab-df-convert:hover {\n",
              "      background-color: #E2EBFA;\n",
              "      box-shadow: 0px 1px 2px rgba(60, 64, 67, 0.3), 0px 1px 3px 1px rgba(60, 64, 67, 0.15);\n",
              "      fill: #174EA6;\n",
              "    }\n",
              "\n",
              "    [theme=dark] .colab-df-convert {\n",
              "      background-color: #3B4455;\n",
              "      fill: #D2E3FC;\n",
              "    }\n",
              "\n",
              "    [theme=dark] .colab-df-convert:hover {\n",
              "      background-color: #434B5C;\n",
              "      box-shadow: 0px 1px 3px 1px rgba(0, 0, 0, 0.15);\n",
              "      filter: drop-shadow(0px 1px 2px rgba(0, 0, 0, 0.3));\n",
              "      fill: #FFFFFF;\n",
              "    }\n",
              "  </style>\n",
              "\n",
              "      <script>\n",
              "        const buttonEl =\n",
              "          document.querySelector('#df-bbbe03a7-56f3-4dc1-8d52-8fddedea2a94 button.colab-df-convert');\n",
              "        buttonEl.style.display =\n",
              "          google.colab.kernel.accessAllowed ? 'block' : 'none';\n",
              "\n",
              "        async function convertToInteractive(key) {\n",
              "          const element = document.querySelector('#df-bbbe03a7-56f3-4dc1-8d52-8fddedea2a94');\n",
              "          const dataTable =\n",
              "            await google.colab.kernel.invokeFunction('convertToInteractive',\n",
              "                                                     [key], {});\n",
              "          if (!dataTable) return;\n",
              "\n",
              "          const docLinkHtml = 'Like what you see? Visit the ' +\n",
              "            '<a target=\"_blank\" href=https://colab.research.google.com/notebooks/data_table.ipynb>data table notebook</a>'\n",
              "            + ' to learn more about interactive tables.';\n",
              "          element.innerHTML = '';\n",
              "          dataTable['output_type'] = 'display_data';\n",
              "          await google.colab.output.renderOutput(dataTable, element);\n",
              "          const docLink = document.createElement('div');\n",
              "          docLink.innerHTML = docLinkHtml;\n",
              "          element.appendChild(docLink);\n",
              "        }\n",
              "      </script>\n",
              "    </div>\n",
              "  </div>\n",
              "  "
            ],
            "text/plain": [
              "       ID  CPU_LOAD  MEMORY_LEAK_LOAD  ...  ERROR_1002  ERROR_1003      ROOT_CAUSE\n",
              "0       1 -0.945484         -0.847475  ...   -0.872103    1.274626     MEMORY_LEAK\n",
              "1       2 -0.945484         -0.847475  ...   -0.872103    1.274626     MEMORY_LEAK\n",
              "2       3 -0.945484          1.179976  ...    1.146654    1.274626     MEMORY_LEAK\n",
              "3       4 -0.945484          1.179976  ...   -0.872103    1.274626     MEMORY_LEAK\n",
              "4       5  1.057660          1.179976  ...    1.146654   -0.784544   NETWORK_DELAY\n",
              "..    ...       ...               ...  ...         ...         ...             ...\n",
              "995   996 -0.945484         -0.847475  ...   -0.872103    1.274626  DATABASE_ISSUE\n",
              "996   997 -0.945484         -0.847475  ...   -0.872103   -0.784544   NETWORK_DELAY\n",
              "997   998  1.057660          1.179976  ...   -0.872103   -0.784544     MEMORY_LEAK\n",
              "998   999 -0.945484          1.179976  ...   -0.872103   -0.784544   NETWORK_DELAY\n",
              "999  1000  1.057660         -0.847475  ...    1.146654   -0.784544  DATABASE_ISSUE\n",
              "\n",
              "[1000 rows x 9 columns]"
            ]
          },
          "metadata": {},
          "execution_count": 110
        }
      ]
    },
    {
      "cell_type": "code",
      "source": [
        "## First of all making label encoder for target columns\n",
        "from sklearn.preprocessing import LabelEncoder\n",
        "encoder=LabelEncoder().fit(df[target_col])"
      ],
      "metadata": {
        "id": "7Gbq5xRVZTwK"
      },
      "execution_count": 111,
      "outputs": []
    },
    {
      "cell_type": "code",
      "source": [
        "df[target_col]=encoder.transform(df[target_col])"
      ],
      "metadata": {
        "id": "3Omto37zZg-l"
      },
      "execution_count": 112,
      "outputs": []
    },
    {
      "cell_type": "code",
      "source": [
        "encoder.classes_"
      ],
      "metadata": {
        "colab": {
          "base_uri": "https://localhost:8080/"
        },
        "id": "OCg7CZ_GZqSE",
        "outputId": "01cc66cc-a81e-4940-d161-d5bf9f37a328"
      },
      "execution_count": 113,
      "outputs": [
        {
          "output_type": "execute_result",
          "data": {
            "text/plain": [
              "array(['DATABASE_ISSUE', 'MEMORY_LEAK', 'NETWORK_DELAY'], dtype=object)"
            ]
          },
          "metadata": {},
          "execution_count": 113
        }
      ]
    },
    {
      "cell_type": "code",
      "source": [
        "df"
      ],
      "metadata": {
        "colab": {
          "base_uri": "https://localhost:8080/",
          "height": 424
        },
        "id": "RfV-IbubZ25Z",
        "outputId": "6859f9b8-adb9-42ae-f43a-71749edf0304"
      },
      "execution_count": 114,
      "outputs": [
        {
          "output_type": "execute_result",
          "data": {
            "text/html": [
              "\n",
              "  <div id=\"df-79d93eea-bd15-4c12-9686-892ffc8212c8\">\n",
              "    <div class=\"colab-df-container\">\n",
              "      <div>\n",
              "<style scoped>\n",
              "    .dataframe tbody tr th:only-of-type {\n",
              "        vertical-align: middle;\n",
              "    }\n",
              "\n",
              "    .dataframe tbody tr th {\n",
              "        vertical-align: top;\n",
              "    }\n",
              "\n",
              "    .dataframe thead th {\n",
              "        text-align: right;\n",
              "    }\n",
              "</style>\n",
              "<table border=\"1\" class=\"dataframe\">\n",
              "  <thead>\n",
              "    <tr style=\"text-align: right;\">\n",
              "      <th></th>\n",
              "      <th>ID</th>\n",
              "      <th>CPU_LOAD</th>\n",
              "      <th>MEMORY_LEAK_LOAD</th>\n",
              "      <th>DELAY</th>\n",
              "      <th>ERROR_1000</th>\n",
              "      <th>ERROR_1001</th>\n",
              "      <th>ERROR_1002</th>\n",
              "      <th>ERROR_1003</th>\n",
              "      <th>ROOT_CAUSE</th>\n",
              "    </tr>\n",
              "  </thead>\n",
              "  <tbody>\n",
              "    <tr>\n",
              "      <th>0</th>\n",
              "      <td>1</td>\n",
              "      <td>-0.945484</td>\n",
              "      <td>-0.847475</td>\n",
              "      <td>-0.806328</td>\n",
              "      <td>-0.808018</td>\n",
              "      <td>1.030464</td>\n",
              "      <td>-0.872103</td>\n",
              "      <td>1.274626</td>\n",
              "      <td>1</td>\n",
              "    </tr>\n",
              "    <tr>\n",
              "      <th>1</th>\n",
              "      <td>2</td>\n",
              "      <td>-0.945484</td>\n",
              "      <td>-0.847475</td>\n",
              "      <td>-0.806328</td>\n",
              "      <td>-0.808018</td>\n",
              "      <td>-0.970437</td>\n",
              "      <td>-0.872103</td>\n",
              "      <td>1.274626</td>\n",
              "      <td>1</td>\n",
              "    </tr>\n",
              "    <tr>\n",
              "      <th>2</th>\n",
              "      <td>3</td>\n",
              "      <td>-0.945484</td>\n",
              "      <td>1.179976</td>\n",
              "      <td>1.240190</td>\n",
              "      <td>-0.808018</td>\n",
              "      <td>-0.970437</td>\n",
              "      <td>1.146654</td>\n",
              "      <td>1.274626</td>\n",
              "      <td>1</td>\n",
              "    </tr>\n",
              "    <tr>\n",
              "      <th>3</th>\n",
              "      <td>4</td>\n",
              "      <td>-0.945484</td>\n",
              "      <td>1.179976</td>\n",
              "      <td>-0.806328</td>\n",
              "      <td>1.237597</td>\n",
              "      <td>1.030464</td>\n",
              "      <td>-0.872103</td>\n",
              "      <td>1.274626</td>\n",
              "      <td>1</td>\n",
              "    </tr>\n",
              "    <tr>\n",
              "      <th>4</th>\n",
              "      <td>5</td>\n",
              "      <td>1.057660</td>\n",
              "      <td>1.179976</td>\n",
              "      <td>-0.806328</td>\n",
              "      <td>1.237597</td>\n",
              "      <td>-0.970437</td>\n",
              "      <td>1.146654</td>\n",
              "      <td>-0.784544</td>\n",
              "      <td>2</td>\n",
              "    </tr>\n",
              "    <tr>\n",
              "      <th>...</th>\n",
              "      <td>...</td>\n",
              "      <td>...</td>\n",
              "      <td>...</td>\n",
              "      <td>...</td>\n",
              "      <td>...</td>\n",
              "      <td>...</td>\n",
              "      <td>...</td>\n",
              "      <td>...</td>\n",
              "      <td>...</td>\n",
              "    </tr>\n",
              "    <tr>\n",
              "      <th>995</th>\n",
              "      <td>996</td>\n",
              "      <td>-0.945484</td>\n",
              "      <td>-0.847475</td>\n",
              "      <td>-0.806328</td>\n",
              "      <td>-0.808018</td>\n",
              "      <td>-0.970437</td>\n",
              "      <td>-0.872103</td>\n",
              "      <td>1.274626</td>\n",
              "      <td>0</td>\n",
              "    </tr>\n",
              "    <tr>\n",
              "      <th>996</th>\n",
              "      <td>997</td>\n",
              "      <td>-0.945484</td>\n",
              "      <td>-0.847475</td>\n",
              "      <td>-0.806328</td>\n",
              "      <td>1.237597</td>\n",
              "      <td>-0.970437</td>\n",
              "      <td>-0.872103</td>\n",
              "      <td>-0.784544</td>\n",
              "      <td>2</td>\n",
              "    </tr>\n",
              "    <tr>\n",
              "      <th>997</th>\n",
              "      <td>998</td>\n",
              "      <td>1.057660</td>\n",
              "      <td>1.179976</td>\n",
              "      <td>1.240190</td>\n",
              "      <td>-0.808018</td>\n",
              "      <td>-0.970437</td>\n",
              "      <td>-0.872103</td>\n",
              "      <td>-0.784544</td>\n",
              "      <td>1</td>\n",
              "    </tr>\n",
              "    <tr>\n",
              "      <th>998</th>\n",
              "      <td>999</td>\n",
              "      <td>-0.945484</td>\n",
              "      <td>1.179976</td>\n",
              "      <td>1.240190</td>\n",
              "      <td>1.237597</td>\n",
              "      <td>1.030464</td>\n",
              "      <td>-0.872103</td>\n",
              "      <td>-0.784544</td>\n",
              "      <td>2</td>\n",
              "    </tr>\n",
              "    <tr>\n",
              "      <th>999</th>\n",
              "      <td>1000</td>\n",
              "      <td>1.057660</td>\n",
              "      <td>-0.847475</td>\n",
              "      <td>-0.806328</td>\n",
              "      <td>-0.808018</td>\n",
              "      <td>1.030464</td>\n",
              "      <td>1.146654</td>\n",
              "      <td>-0.784544</td>\n",
              "      <td>0</td>\n",
              "    </tr>\n",
              "  </tbody>\n",
              "</table>\n",
              "<p>1000 rows × 9 columns</p>\n",
              "</div>\n",
              "      <button class=\"colab-df-convert\" onclick=\"convertToInteractive('df-79d93eea-bd15-4c12-9686-892ffc8212c8')\"\n",
              "              title=\"Convert this dataframe to an interactive table.\"\n",
              "              style=\"display:none;\">\n",
              "        \n",
              "  <svg xmlns=\"http://www.w3.org/2000/svg\" height=\"24px\"viewBox=\"0 0 24 24\"\n",
              "       width=\"24px\">\n",
              "    <path d=\"M0 0h24v24H0V0z\" fill=\"none\"/>\n",
              "    <path d=\"M18.56 5.44l.94 2.06.94-2.06 2.06-.94-2.06-.94-.94-2.06-.94 2.06-2.06.94zm-11 1L8.5 8.5l.94-2.06 2.06-.94-2.06-.94L8.5 2.5l-.94 2.06-2.06.94zm10 10l.94 2.06.94-2.06 2.06-.94-2.06-.94-.94-2.06-.94 2.06-2.06.94z\"/><path d=\"M17.41 7.96l-1.37-1.37c-.4-.4-.92-.59-1.43-.59-.52 0-1.04.2-1.43.59L10.3 9.45l-7.72 7.72c-.78.78-.78 2.05 0 2.83L4 21.41c.39.39.9.59 1.41.59.51 0 1.02-.2 1.41-.59l7.78-7.78 2.81-2.81c.8-.78.8-2.07 0-2.86zM5.41 20L4 18.59l7.72-7.72 1.47 1.35L5.41 20z\"/>\n",
              "  </svg>\n",
              "      </button>\n",
              "      \n",
              "  <style>\n",
              "    .colab-df-container {\n",
              "      display:flex;\n",
              "      flex-wrap:wrap;\n",
              "      gap: 12px;\n",
              "    }\n",
              "\n",
              "    .colab-df-convert {\n",
              "      background-color: #E8F0FE;\n",
              "      border: none;\n",
              "      border-radius: 50%;\n",
              "      cursor: pointer;\n",
              "      display: none;\n",
              "      fill: #1967D2;\n",
              "      height: 32px;\n",
              "      padding: 0 0 0 0;\n",
              "      width: 32px;\n",
              "    }\n",
              "\n",
              "    .colab-df-convert:hover {\n",
              "      background-color: #E2EBFA;\n",
              "      box-shadow: 0px 1px 2px rgba(60, 64, 67, 0.3), 0px 1px 3px 1px rgba(60, 64, 67, 0.15);\n",
              "      fill: #174EA6;\n",
              "    }\n",
              "\n",
              "    [theme=dark] .colab-df-convert {\n",
              "      background-color: #3B4455;\n",
              "      fill: #D2E3FC;\n",
              "    }\n",
              "\n",
              "    [theme=dark] .colab-df-convert:hover {\n",
              "      background-color: #434B5C;\n",
              "      box-shadow: 0px 1px 3px 1px rgba(0, 0, 0, 0.15);\n",
              "      filter: drop-shadow(0px 1px 2px rgba(0, 0, 0, 0.3));\n",
              "      fill: #FFFFFF;\n",
              "    }\n",
              "  </style>\n",
              "\n",
              "      <script>\n",
              "        const buttonEl =\n",
              "          document.querySelector('#df-79d93eea-bd15-4c12-9686-892ffc8212c8 button.colab-df-convert');\n",
              "        buttonEl.style.display =\n",
              "          google.colab.kernel.accessAllowed ? 'block' : 'none';\n",
              "\n",
              "        async function convertToInteractive(key) {\n",
              "          const element = document.querySelector('#df-79d93eea-bd15-4c12-9686-892ffc8212c8');\n",
              "          const dataTable =\n",
              "            await google.colab.kernel.invokeFunction('convertToInteractive',\n",
              "                                                     [key], {});\n",
              "          if (!dataTable) return;\n",
              "\n",
              "          const docLinkHtml = 'Like what you see? Visit the ' +\n",
              "            '<a target=\"_blank\" href=https://colab.research.google.com/notebooks/data_table.ipynb>data table notebook</a>'\n",
              "            + ' to learn more about interactive tables.';\n",
              "          element.innerHTML = '';\n",
              "          dataTable['output_type'] = 'display_data';\n",
              "          await google.colab.output.renderOutput(dataTable, element);\n",
              "          const docLink = document.createElement('div');\n",
              "          docLink.innerHTML = docLinkHtml;\n",
              "          element.appendChild(docLink);\n",
              "        }\n",
              "      </script>\n",
              "    </div>\n",
              "  </div>\n",
              "  "
            ],
            "text/plain": [
              "       ID  CPU_LOAD  MEMORY_LEAK_LOAD  ...  ERROR_1002  ERROR_1003  ROOT_CAUSE\n",
              "0       1 -0.945484         -0.847475  ...   -0.872103    1.274626           1\n",
              "1       2 -0.945484         -0.847475  ...   -0.872103    1.274626           1\n",
              "2       3 -0.945484          1.179976  ...    1.146654    1.274626           1\n",
              "3       4 -0.945484          1.179976  ...   -0.872103    1.274626           1\n",
              "4       5  1.057660          1.179976  ...    1.146654   -0.784544           2\n",
              "..    ...       ...               ...  ...         ...         ...         ...\n",
              "995   996 -0.945484         -0.847475  ...   -0.872103    1.274626           0\n",
              "996   997 -0.945484         -0.847475  ...   -0.872103   -0.784544           2\n",
              "997   998  1.057660          1.179976  ...   -0.872103   -0.784544           1\n",
              "998   999 -0.945484          1.179976  ...   -0.872103   -0.784544           2\n",
              "999  1000  1.057660         -0.847475  ...    1.146654   -0.784544           0\n",
              "\n",
              "[1000 rows x 9 columns]"
            ]
          },
          "metadata": {},
          "execution_count": 114
        }
      ]
    },
    {
      "cell_type": "code",
      "source": [
        "df=df.drop(columns='ID').to_numpy()"
      ],
      "metadata": {
        "id": "5zm0yHUwaxml"
      },
      "execution_count": 115,
      "outputs": []
    },
    {
      "cell_type": "code",
      "source": [
        "input_cols"
      ],
      "metadata": {
        "colab": {
          "base_uri": "https://localhost:8080/"
        },
        "id": "2F15Q6DZbMqC",
        "outputId": "e14f8d9b-1a0b-454a-8d16-9be952bf932e"
      },
      "execution_count": 116,
      "outputs": [
        {
          "output_type": "execute_result",
          "data": {
            "text/plain": [
              "['CPU_LOAD',\n",
              " 'MEMORY_LEAK_LOAD',\n",
              " 'DELAY',\n",
              " 'ERROR_1000',\n",
              " 'ERROR_1001',\n",
              " 'ERROR_1002',\n",
              " 'ERROR_1003']"
            ]
          },
          "metadata": {},
          "execution_count": 116
        }
      ]
    },
    {
      "cell_type": "code",
      "source": [
        "train_inputs=df[:,0:-1]"
      ],
      "metadata": {
        "id": "ftAE1bX5bhIk"
      },
      "execution_count": 119,
      "outputs": []
    },
    {
      "cell_type": "code",
      "source": [
        "train_targets=df[:,-1]"
      ],
      "metadata": {
        "id": "_mjJYgBEbp-z"
      },
      "execution_count": 120,
      "outputs": []
    },
    {
      "cell_type": "code",
      "source": [
        "train_inputs.shape"
      ],
      "metadata": {
        "colab": {
          "base_uri": "https://localhost:8080/"
        },
        "id": "fTknqfXZwWGG",
        "outputId": "19fcfe3e-f87d-471e-b520-0879d2b7c2cd"
      },
      "execution_count": 121,
      "outputs": [
        {
          "output_type": "execute_result",
          "data": {
            "text/plain": [
              "(1000, 7)"
            ]
          },
          "metadata": {},
          "execution_count": 121
        }
      ]
    },
    {
      "cell_type": "code",
      "source": [
        "## Now making teh one hot encoding of the target columns\n",
        "train_targets=tf.keras.utils.to_categorical(train_targets,len(encoder.classes_))"
      ],
      "metadata": {
        "id": "08JVWgPNY4kQ"
      },
      "execution_count": 122,
      "outputs": []
    },
    {
      "cell_type": "code",
      "source": [
        "## Now training the model \n",
        "model=keras.models.Sequential(name='root_cause_analysis')"
      ],
      "metadata": {
        "id": "wFdoVH1PbDXo"
      },
      "execution_count": 123,
      "outputs": []
    },
    {
      "cell_type": "code",
      "source": [
        "model.add(keras.layers.Dense(32,input_shape=(7,),name='Hidden_Layers_1',activation='relu'))"
      ],
      "metadata": {
        "id": "b4FA2WLgcNf0"
      },
      "execution_count": 124,
      "outputs": []
    },
    {
      "cell_type": "code",
      "source": [
        "model.add(keras.layers.Dense(32,name='Hidden_Layers_2',activation='relu'))"
      ],
      "metadata": {
        "id": "LaXcq7xac3R_"
      },
      "execution_count": 125,
      "outputs": []
    },
    {
      "cell_type": "code",
      "source": [
        "model.add(keras.layers.Dense(len(encoder.classes_),name='Output_Layers',activation='softmax'))"
      ],
      "metadata": {
        "id": "LQuO8xKCc9R9"
      },
      "execution_count": 126,
      "outputs": []
    },
    {
      "cell_type": "code",
      "source": [
        "model.compile(optimizer='adagrad',loss='categorical_crossentropy',metrics='accuracy')"
      ],
      "metadata": {
        "id": "a16UerKrdG54"
      },
      "execution_count": 127,
      "outputs": []
    },
    {
      "cell_type": "code",
      "source": [
        "model.summary()"
      ],
      "metadata": {
        "colab": {
          "base_uri": "https://localhost:8080/"
        },
        "id": "4ywOiWNidet0",
        "outputId": "62c45d27-d1c8-4c1b-a025-c286f9a3e395"
      },
      "execution_count": 128,
      "outputs": [
        {
          "output_type": "stream",
          "name": "stdout",
          "text": [
            "Model: \"root_cause_analysis\"\n",
            "_________________________________________________________________\n",
            " Layer (type)                Output Shape              Param #   \n",
            "=================================================================\n",
            " Hidden_Layers_1 (Dense)     (None, 32)                256       \n",
            "                                                                 \n",
            " Hidden_Layers_2 (Dense)     (None, 32)                1056      \n",
            "                                                                 \n",
            " Output_Layers (Dense)       (None, 3)                 99        \n",
            "                                                                 \n",
            "=================================================================\n",
            "Total params: 1,411\n",
            "Trainable params: 1,411\n",
            "Non-trainable params: 0\n",
            "_________________________________________________________________\n"
          ]
        }
      ]
    },
    {
      "cell_type": "code",
      "source": [
        "history=model.fit(train_inputs,train_targets,batch_size=16,epochs=10,verbose=1,validation_split=0.2)"
      ],
      "metadata": {
        "colab": {
          "base_uri": "https://localhost:8080/"
        },
        "id": "wDGIDqf3dqFK",
        "outputId": "66419a7c-e343-439e-cecf-769640f5ecdf"
      },
      "execution_count": 129,
      "outputs": [
        {
          "output_type": "stream",
          "name": "stdout",
          "text": [
            "Epoch 1/10\n",
            "50/50 [==============================] - 1s 5ms/step - loss: 1.1226 - accuracy: 0.3913 - val_loss: 1.1710 - val_accuracy: 0.2800\n",
            "Epoch 2/10\n",
            "50/50 [==============================] - 0s 2ms/step - loss: 1.0911 - accuracy: 0.4038 - val_loss: 1.1440 - val_accuracy: 0.3200\n",
            "Epoch 3/10\n",
            "50/50 [==============================] - 0s 2ms/step - loss: 1.0661 - accuracy: 0.4363 - val_loss: 1.1221 - val_accuracy: 0.3300\n",
            "Epoch 4/10\n",
            "50/50 [==============================] - 0s 2ms/step - loss: 1.0449 - accuracy: 0.4387 - val_loss: 1.1031 - val_accuracy: 0.3300\n",
            "Epoch 5/10\n",
            "50/50 [==============================] - 0s 2ms/step - loss: 1.0264 - accuracy: 0.4350 - val_loss: 1.0863 - val_accuracy: 0.3300\n",
            "Epoch 6/10\n",
            "50/50 [==============================] - 0s 2ms/step - loss: 1.0098 - accuracy: 0.4500 - val_loss: 1.0714 - val_accuracy: 0.3900\n",
            "Epoch 7/10\n",
            "50/50 [==============================] - 0s 2ms/step - loss: 0.9948 - accuracy: 0.4638 - val_loss: 1.0580 - val_accuracy: 0.4100\n",
            "Epoch 8/10\n",
            "50/50 [==============================] - 0s 2ms/step - loss: 0.9810 - accuracy: 0.4750 - val_loss: 1.0456 - val_accuracy: 0.4400\n",
            "Epoch 9/10\n",
            "50/50 [==============================] - 0s 2ms/step - loss: 0.9683 - accuracy: 0.5300 - val_loss: 1.0342 - val_accuracy: 0.4900\n",
            "Epoch 10/10\n",
            "50/50 [==============================] - 0s 2ms/step - loss: 0.9564 - accuracy: 0.5713 - val_loss: 1.0233 - val_accuracy: 0.5300\n"
          ]
        }
      ]
    },
    {
      "cell_type": "code",
      "source": [
        "pd.DataFrame(history.history)['accuracy'].plot()"
      ],
      "metadata": {
        "colab": {
          "base_uri": "https://localhost:8080/",
          "height": 282
        },
        "id": "ek2MI2QZd-2D",
        "outputId": "a788343c-e7e3-4a27-bd2c-c817719b1c40"
      },
      "execution_count": 130,
      "outputs": [
        {
          "output_type": "execute_result",
          "data": {
            "text/plain": [
              "<matplotlib.axes._subplots.AxesSubplot at 0x7fb0bccd20d0>"
            ]
          },
          "metadata": {},
          "execution_count": 130
        },
        {
          "output_type": "display_data",
          "data": {
            "image/png": "[encoded data removed]",
            "text/plain": [
              "<Figure size 432x288 with 1 Axes>"
            ]
          },
          "metadata": {
            "needs_background": "light"
          }
        }
      ]
    },
    {
      "cell_type": "code",
      "source": [
        "input_cols"
      ],
      "metadata": {
        "colab": {
          "base_uri": "https://localhost:8080/"
        },
        "id": "WV7CFj8ilXr0",
        "outputId": "0da2071d-316a-495d-da8a-d76a80c06e17"
      },
      "execution_count": 131,
      "outputs": [
        {
          "output_type": "execute_result",
          "data": {
            "text/plain": [
              "['CPU_LOAD',\n",
              " 'MEMORY_LEAK_LOAD',\n",
              " 'DELAY',\n",
              " 'ERROR_1000',\n",
              " 'ERROR_1001',\n",
              " 'ERROR_1002',\n",
              " 'ERROR_1003']"
            ]
          },
          "metadata": {},
          "execution_count": 131
        }
      ]
    },
    {
      "cell_type": "code",
      "source": [
        "data=pd.DataFrame([dict(zip(input_cols,[0,1,1,0,1,0,1]))])"
      ],
      "metadata": {
        "id": "5N6ItFmvjxm9"
      },
      "execution_count": 132,
      "outputs": []
    },
    {
      "cell_type": "code",
      "source": [
        "## Sol let us make a define function which can be used to change the hyperparametr in the model\n",
        "\n",
        "def provide_accuracy(hidden_nodes,batchsize,optimizer,data):\n",
        "  model=keras.models.Sequential()\n",
        "  model.add(keras.layers.Dense(hidden_nodes,input_shape=(train_inputs.shape[1],),activation='relu',name='Hidden_Layer-1'))\n",
        "  model.add(keras.layers.Dense(hidden_nodes,activation='relu',name='Hidden_Layer-2'))\n",
        "  model.add(keras.layers.Dense(len(encoder.classes_),activation='softmax',name='output_Layer'))\n",
        "  model.compile(optimizer=optimizer,loss='categorical_crossentropy',metrics='accuracy')\n",
        "  history=model.fit(train_inputs,train_targets,batch_size=batchsize,epochs=15,verbose=1,validation_split=0.2)\n",
        "  pd.DataFrame(history.history)['accuracy'].plot(figsize=(10,8))\n",
        "  df=data.copy()\n",
        "  df[input_cols]=scaler.transform(df[input_cols])\n",
        "  df=df.to_numpy()\n",
        "  pred=model.predict(df)\n",
        "  return print('\\n',encoder.inverse_transform([np.argmax(pred)]))\n",
        "\n",
        "\n"
      ],
      "metadata": {
        "id": "OG-aP3QIeNh9"
      },
      "execution_count": 136,
      "outputs": []
    },
    {
      "cell_type": "code",
      "source": [
        "provide_accuracy(128,8,'adam',data)"
      ],
      "metadata": {
        "colab": {
          "base_uri": "https://localhost:8080/",
          "height": 1000
        },
        "id": "VbiNQXidhUCe",
        "outputId": "64d05886-4d2a-45c4-d5e3-05cab9276957"
      },
      "execution_count": 137,
      "outputs": [
        {
          "output_type": "stream",
          "name": "stdout",
          "text": [
            "Epoch 1/15\n",
            "100/100 [==============================] - 1s 4ms/step - loss: 0.5762 - accuracy: 0.7950 - val_loss: 0.5384 - val_accuracy: 0.7700\n",
            "Epoch 2/15\n",
            "100/100 [==============================] - 0s 2ms/step - loss: 0.4251 - accuracy: 0.8388 - val_loss: 0.5121 - val_accuracy: 0.7800\n",
            "Epoch 3/15\n",
            "100/100 [==============================] - 0s 3ms/step - loss: 0.3967 - accuracy: 0.8400 - val_loss: 0.5003 - val_accuracy: 0.8200\n",
            "Epoch 4/15\n",
            "100/100 [==============================] - 0s 2ms/step - loss: 0.3748 - accuracy: 0.8537 - val_loss: 0.4898 - val_accuracy: 0.8300\n",
            "Epoch 5/15\n",
            "100/100 [==============================] - 0s 3ms/step - loss: 0.3682 - accuracy: 0.8525 - val_loss: 0.4851 - val_accuracy: 0.7900\n",
            "Epoch 6/15\n",
            "100/100 [==============================] - 0s 2ms/step - loss: 0.3546 - accuracy: 0.8587 - val_loss: 0.4745 - val_accuracy: 0.8300\n",
            "Epoch 7/15\n",
            "100/100 [==============================] - 0s 3ms/step - loss: 0.3503 - accuracy: 0.8587 - val_loss: 0.4564 - val_accuracy: 0.8000\n",
            "Epoch 8/15\n",
            "100/100 [==============================] - 0s 2ms/step - loss: 0.3379 - accuracy: 0.8462 - val_loss: 0.4474 - val_accuracy: 0.8100\n",
            "Epoch 9/15\n",
            "100/100 [==============================] - 0s 3ms/step - loss: 0.3319 - accuracy: 0.8550 - val_loss: 0.4267 - val_accuracy: 0.8100\n",
            "Epoch 10/15\n",
            "100/100 [==============================] - 0s 2ms/step - loss: 0.3250 - accuracy: 0.8525 - val_loss: 0.4706 - val_accuracy: 0.7800\n",
            "Epoch 11/15\n",
            "100/100 [==============================] - 0s 2ms/step - loss: 0.3223 - accuracy: 0.8662 - val_loss: 0.4542 - val_accuracy: 0.8100\n",
            "Epoch 12/15\n",
            "100/100 [==============================] - 0s 2ms/step - loss: 0.3170 - accuracy: 0.8575 - val_loss: 0.4332 - val_accuracy: 0.8400\n",
            "Epoch 13/15\n",
            "100/100 [==============================] - 0s 2ms/step - loss: 0.3140 - accuracy: 0.8625 - val_loss: 0.4716 - val_accuracy: 0.7900\n",
            "Epoch 14/15\n",
            "100/100 [==============================] - 0s 2ms/step - loss: 0.3201 - accuracy: 0.8625 - val_loss: 0.4003 - val_accuracy: 0.8200\n",
            "Epoch 15/15\n",
            "100/100 [==============================] - 0s 2ms/step - loss: 0.3087 - accuracy: 0.8612 - val_loss: 0.4462 - val_accuracy: 0.8000\n",
            "\n",
            " ['MEMORY_LEAK']\n"
          ]
        },
        {
          "output_type": "display_data",
          "data": {
            "image/png": "[encoded data removed]",
            "text/plain": [
              "<Figure size 720x576 with 1 Axes>"
            ]
          },
          "metadata": {
            "needs_background": "light"
          }
        }
      ]
    },
    {
      "cell_type": "code",
      "source": [
        ""
      ],
      "metadata": {
        "id": "uzQvKcKhhbzn"
      },
      "execution_count": null,
      "outputs": []
    }
  ],
  "metadata": {
    "kernelspec": {
      "display_name": "Python 3 (ipykernel)",
      "language": "python",
      "name": "python3"
    },
    "language_info": {
      "codemirror_mode": {
        "name": "ipython",
        "version": 3
      },
      "file_extension": ".py",
      "mimetype": "text/x-python",
      "name": "python",
      "nbconvert_exporter": "python",
      "pygments_lexer": "ipython3",
      "version": "3.8.11"
    },
    "colab": {
      "name": "code_06_XX Incident Root Cause Analysis Exercise.ipynb",
      "provenance": [],
      "include_colab_link": true
    }
  },
  "nbformat": 4,
  "nbformat_minor": 0
}