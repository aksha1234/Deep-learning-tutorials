{
  "cells": [
    {
      "cell_type": "markdown",
      "metadata": {
        "id": "view-in-github",
        "colab_type": "text"
      },
      "source": [
        "<a href=\"https://colab.research.google.com/github/aksha1234/selenium-youtube-scrapper/blob/main/Rakuten_test.ipynb\" target=\"_parent\"><img src=\"https://colab.research.google.com/assets/colab-badge.svg\" alt=\"Open In Colab\"/></a>"
      ]
    },
    {
      "cell_type": "markdown",
      "source": [
        "## Importing libraries"
      ],
      "metadata": {
        "id": "eEWGP_ZzSghW"
      }
    },
    {
      "cell_type": "code",
      "source": [
        "import numpy as np\n",
        "import pandas as pd\n",
        "import matplotlib\n",
        "import matplotlib.pyplot as plt\n",
        "import seaborn as sns\n",
        "from urllib.request import urlretrieve \n",
        "%matplotlib inline"
      ],
      "metadata": {
        "id": "RDCFJ4QfQaCN"
      },
      "execution_count": 64,
      "outputs": []
    },
    {
      "cell_type": "code",
      "source": [
        "import warnings\n",
        "warnings.filterwarnings('ignore',category=FutureWarning)"
      ],
      "metadata": {
        "id": "1qeUlH5lSVWz"
      },
      "execution_count": 6,
      "outputs": []
    },
    {
      "cell_type": "markdown",
      "source": [
        "## Importing the Dataset"
      ],
      "metadata": {
        "id": "FwIZQmg1SoD0"
      }
    },
    {
      "cell_type": "code",
      "source": [
        "train_df=pd.read_csv('/content/train.csv')\n",
        "test_df=pd.read_csv('/content/test.csv')\n",
        "master=pd.read_csv('/content/master.csv')\n"
      ],
      "metadata": {
        "id": "iCCq6yBrR24f"
      },
      "execution_count": 7,
      "outputs": []
    },
    {
      "cell_type": "code",
      "source": [
        "for df in [train_df,test_df,master]:\n",
        "  print(df.shape)"
      ],
      "metadata": {
        "colab": {
          "base_uri": "https://localhost:8080/"
        },
        "id": "94aMfy2WQ729",
        "outputId": "ae6069ad-0673-4aea-9b0c-e4bce8a24502"
      },
      "execution_count": 19,
      "outputs": [
        {
          "output_type": "stream",
          "name": "stdout",
          "text": [
            "(154248, 16)\n",
            "(155902, 15)\n",
            "(2500, 3)\n"
          ]
        }
      ]
    },
    {
      "cell_type": "markdown",
      "source": [
        "## Checking the top 10 highest post authors "
      ],
      "metadata": {
        "id": "7b5WsCeFUXrD"
      }
    },
    {
      "cell_type": "code",
      "source": [
        "train_df.head()\n",
        "train_df.author.value_counts()[:10].plot(kind='bar')"
      ],
      "metadata": {
        "colab": {
          "base_uri": "https://localhost:8080/",
          "height": 357
        },
        "id": "i4nFvP_IS9DW",
        "outputId": "cd9e1a51-668a-4c50-9a23-2a8ca7ac6f64"
      },
      "execution_count": 22,
      "outputs": [
        {
          "output_type": "execute_result",
          "data": {
            "text/plain": [
              "<matplotlib.axes._subplots.AxesSubplot at 0x7f16978c4d50>"
            ]
          },
          "metadata": {},
          "execution_count": 22
        },
        {
          "output_type": "display_data",
          "data": {
            "image/png": "[encoded data removed]",
            "text/plain": [
              "<Figure size 432x288 with 1 Axes>"
            ]
          },
          "metadata": {
            "needs_background": "light"
          }
        }
      ]
    },
    {
      "cell_type": "code",
      "source": [
        "master.columns=['url','subscribers', 'name']"
      ],
      "metadata": {
        "id": "JdgRd68uTAv8"
      },
      "execution_count": 25,
      "outputs": []
    },
    {
      "cell_type": "code",
      "source": [
        "## Let us know the domain plot\n",
        "train_df.domain.value_counts()[:10].plot(kind='bar')"
      ],
      "metadata": {
        "colab": {
          "base_uri": "https://localhost:8080/",
          "height": 355
        },
        "id": "zxg5u2AXTLZZ",
        "outputId": "ad095d86-e295-4899-b9e0-5d059af59ced"
      },
      "execution_count": 30,
      "outputs": [
        {
          "output_type": "execute_result",
          "data": {
            "text/plain": [
              "<matplotlib.axes._subplots.AxesSubplot at 0x7f16bdf0dc10>"
            ]
          },
          "metadata": {},
          "execution_count": 30
        },
        {
          "output_type": "display_data",
          "data": {
            "image/png": "[encoded data removed]",
            "text/plain": [
              "<Figure size 432x288 with 1 Axes>"
            ]
          },
          "metadata": {
            "needs_background": "light"
          }
        }
      ]
    },
    {
      "cell_type": "markdown",
      "source": [
        "#### It means most of the post were from *imgur*."
      ],
      "metadata": {
        "id": "XUf7ioZHVqdc"
      }
    },
    {
      "cell_type": "code",
      "source": [
        "train_df.head()"
      ],
      "metadata": {
        "colab": {
          "base_uri": "https://localhost:8080/",
          "height": 531
        },
        "id": "AmdxDI58UsZe",
        "outputId": "1cdafc88-a77c-47d7-89f8-1e6c95f5d267"
      },
      "execution_count": 31,
      "outputs": [
        {
          "output_type": "execute_result",
          "data": {
            "text/html": [
              "\n",
              "  <div id=\"df-18016afc-90f2-4e06-bcef-71ceed8c2f87\">\n",
              "    <div class=\"colab-df-container\">\n",
              "      <div>\n",
              "<style scoped>\n",
              "    .dataframe tbody tr th:only-of-type {\n",
              "        vertical-align: middle;\n",
              "    }\n",
              "\n",
              "    .dataframe tbody tr th {\n",
              "        vertical-align: top;\n",
              "    }\n",
              "\n",
              "    .dataframe thead th {\n",
              "        text-align: right;\n",
              "    }\n",
              "</style>\n",
              "<table border=\"1\" class=\"dataframe\">\n",
              "  <thead>\n",
              "    <tr style=\"text-align: right;\">\n",
              "      <th></th>\n",
              "      <th>score</th>\n",
              "      <th>domain</th>\n",
              "      <th>id</th>\n",
              "      <th>title</th>\n",
              "      <th>author</th>\n",
              "      <th>ups</th>\n",
              "      <th>downs</th>\n",
              "      <th>num_comments</th>\n",
              "      <th>permalink</th>\n",
              "      <th>over_18</th>\n",
              "      <th>subreddit_id</th>\n",
              "      <th>edited</th>\n",
              "      <th>is_self</th>\n",
              "      <th>name</th>\n",
              "      <th>url</th>\n",
              "      <th>created_date</th>\n",
              "    </tr>\n",
              "  </thead>\n",
              "  <tbody>\n",
              "    <tr>\n",
              "      <th>0</th>\n",
              "      <td>324</td>\n",
              "      <td>youtube.com</td>\n",
              "      <td>10vto2</td>\n",
              "      <td>Notch posted a demonstration of the game - \"\"\"...</td>\n",
              "      <td>MartinPedro</td>\n",
              "      <td>NaN</td>\n",
              "      <td>28.0</td>\n",
              "      <td>209.0</td>\n",
              "      <td>http://www.reddit.com/r/0x10c/comments/10vto2/...</td>\n",
              "      <td>False</td>\n",
              "      <td>t5_2tu92</td>\n",
              "      <td>False</td>\n",
              "      <td>False</td>\n",
              "      <td>t3_10vto2</td>\n",
              "      <td>http://www.youtube.com/watch?v=49mUfXxDG48</td>\n",
              "      <td>2012-10-03 17:07:57</td>\n",
              "    </tr>\n",
              "    <tr>\n",
              "      <th>1</th>\n",
              "      <td>298</td>\n",
              "      <td>youtube.com</td>\n",
              "      <td>11d8ih</td>\n",
              "      <td>New art test and dynamic lights for 0x10c</td>\n",
              "      <td>MartinPedro</td>\n",
              "      <td>317.0</td>\n",
              "      <td>19.0</td>\n",
              "      <td>NaN</td>\n",
              "      <td>http://www.reddit.com/r/0x10c/comments/11d8ih/...</td>\n",
              "      <td>False</td>\n",
              "      <td>t5_2tu92</td>\n",
              "      <td>False</td>\n",
              "      <td>False</td>\n",
              "      <td>t3_11d8ih</td>\n",
              "      <td>http://www.youtube.com/watch?v=nYojT0Xgt9Y</td>\n",
              "      <td>2012-10-12 14:53:27</td>\n",
              "    </tr>\n",
              "    <tr>\n",
              "      <th>2</th>\n",
              "      <td>295</td>\n",
              "      <td>i.imgur.com</td>\n",
              "      <td>usp9b</td>\n",
              "      <td>Not being a programmer in 0x10c</td>\n",
              "      <td>Urgin</td>\n",
              "      <td>333.0</td>\n",
              "      <td>38.0</td>\n",
              "      <td>34.0</td>\n",
              "      <td>http://www.reddit.com/r/0x10c/comments/usp9b/n...</td>\n",
              "      <td>False</td>\n",
              "      <td>t5_2tu92</td>\n",
              "      <td>False</td>\n",
              "      <td>False</td>\n",
              "      <td>t3_usp9b</td>\n",
              "      <td>http://i.imgur.com/SCaPS.gif</td>\n",
              "      <td>2012-06-09 03:47:18</td>\n",
              "    </tr>\n",
              "    <tr>\n",
              "      <th>3</th>\n",
              "      <td>286</td>\n",
              "      <td>0x10c.com</td>\n",
              "      <td>13uapp</td>\n",
              "      <td>At Minecon one of the Mojang guys told me that...</td>\n",
              "      <td>BubblegumBalloon</td>\n",
              "      <td>313.0</td>\n",
              "      <td>27.0</td>\n",
              "      <td>329.0</td>\n",
              "      <td>http://www.reddit.com/r/0x10c/comments/13uapp/...</td>\n",
              "      <td>False</td>\n",
              "      <td>t5_2tu92</td>\n",
              "      <td>False</td>\n",
              "      <td>False</td>\n",
              "      <td>t3_13uapp</td>\n",
              "      <td>http://0x10c.com/wp-content/uploads/2012/10/DC...</td>\n",
              "      <td>2012-11-26 23:53:28</td>\n",
              "    </tr>\n",
              "    <tr>\n",
              "      <th>4</th>\n",
              "      <td>264</td>\n",
              "      <td>i.imgur.com</td>\n",
              "      <td>122hjs</td>\n",
              "      <td>0x10c's artist posted a mockup for what the ga...</td>\n",
              "      <td>deadstone</td>\n",
              "      <td>284.0</td>\n",
              "      <td>NaN</td>\n",
              "      <td>139.0</td>\n",
              "      <td>http://www.reddit.com/r/0x10c/comments/122hjs/...</td>\n",
              "      <td>False</td>\n",
              "      <td>t5_2tu92</td>\n",
              "      <td>False</td>\n",
              "      <td>False</td>\n",
              "      <td>t3_122hjs</td>\n",
              "      <td>http://i.imgur.com/akByX.jpg</td>\n",
              "      <td>2012-10-25 15:21:17</td>\n",
              "    </tr>\n",
              "  </tbody>\n",
              "</table>\n",
              "</div>\n",
              "      <button class=\"colab-df-convert\" onclick=\"convertToInteractive('df-18016afc-90f2-4e06-bcef-71ceed8c2f87')\"\n",
              "              title=\"Convert this dataframe to an interactive table.\"\n",
              "              style=\"display:none;\">\n",
              "        \n",
              "  <svg xmlns=\"http://www.w3.org/2000/svg\" height=\"24px\"viewBox=\"0 0 24 24\"\n",
              "       width=\"24px\">\n",
              "    <path d=\"M0 0h24v24H0V0z\" fill=\"none\"/>\n",
              "    <path d=\"M18.56 5.44l.94 2.06.94-2.06 2.06-.94-2.06-.94-.94-2.06-.94 2.06-2.06.94zm-11 1L8.5 8.5l.94-2.06 2.06-.94-2.06-.94L8.5 2.5l-.94 2.06-2.06.94zm10 10l.94 2.06.94-2.06 2.06-.94-2.06-.94-.94-2.06-.94 2.06-2.06.94z\"/><path d=\"M17.41 7.96l-1.37-1.37c-.4-.4-.92-.59-1.43-.59-.52 0-1.04.2-1.43.59L10.3 9.45l-7.72 7.72c-.78.78-.78 2.05 0 2.83L4 21.41c.39.39.9.59 1.41.59.51 0 1.02-.2 1.41-.59l7.78-7.78 2.81-2.81c.8-.78.8-2.07 0-2.86zM5.41 20L4 18.59l7.72-7.72 1.47 1.35L5.41 20z\"/>\n",
              "  </svg>\n",
              "      </button>\n",
              "      \n",
              "  <style>\n",
              "    .colab-df-container {\n",
              "      display:flex;\n",
              "      flex-wrap:wrap;\n",
              "      gap: 12px;\n",
              "    }\n",
              "\n",
              "    .colab-df-convert {\n",
              "      background-color: #E8F0FE;\n",
              "      border: none;\n",
              "      border-radius: 50%;\n",
              "      cursor: pointer;\n",
              "      display: none;\n",
              "      fill: #1967D2;\n",
              "      height: 32px;\n",
              "      padding: 0 0 0 0;\n",
              "      width: 32px;\n",
              "    }\n",
              "\n",
              "    .colab-df-convert:hover {\n",
              "      background-color: #E2EBFA;\n",
              "      box-shadow: 0px 1px 2px rgba(60, 64, 67, 0.3), 0px 1px 3px 1px rgba(60, 64, 67, 0.15);\n",
              "      fill: #174EA6;\n",
              "    }\n",
              "\n",
              "    [theme=dark] .colab-df-convert {\n",
              "      background-color: #3B4455;\n",
              "      fill: #D2E3FC;\n",
              "    }\n",
              "\n",
              "    [theme=dark] .colab-df-convert:hover {\n",
              "      background-color: #434B5C;\n",
              "      box-shadow: 0px 1px 3px 1px rgba(0, 0, 0, 0.15);\n",
              "      filter: drop-shadow(0px 1px 2px rgba(0, 0, 0, 0.3));\n",
              "      fill: #FFFFFF;\n",
              "    }\n",
              "  </style>\n",
              "\n",
              "      <script>\n",
              "        const buttonEl =\n",
              "          document.querySelector('#df-18016afc-90f2-4e06-bcef-71ceed8c2f87 button.colab-df-convert');\n",
              "        buttonEl.style.display =\n",
              "          google.colab.kernel.accessAllowed ? 'block' : 'none';\n",
              "\n",
              "        async function convertToInteractive(key) {\n",
              "          const element = document.querySelector('#df-18016afc-90f2-4e06-bcef-71ceed8c2f87');\n",
              "          const dataTable =\n",
              "            await google.colab.kernel.invokeFunction('convertToInteractive',\n",
              "                                                     [key], {});\n",
              "          if (!dataTable) return;\n",
              "\n",
              "          const docLinkHtml = 'Like what you see? Visit the ' +\n",
              "            '<a target=\"_blank\" href=https://colab.research.google.com/notebooks/data_table.ipynb>data table notebook</a>'\n",
              "            + ' to learn more about interactive tables.';\n",
              "          element.innerHTML = '';\n",
              "          dataTable['output_type'] = 'display_data';\n",
              "          await google.colab.output.renderOutput(dataTable, element);\n",
              "          const docLink = document.createElement('div');\n",
              "          docLink.innerHTML = docLinkHtml;\n",
              "          element.appendChild(docLink);\n",
              "        }\n",
              "      </script>\n",
              "    </div>\n",
              "  </div>\n",
              "  "
            ],
            "text/plain": [
              "   score  ...         created_date\n",
              "0    324  ...  2012-10-03 17:07:57\n",
              "1    298  ...  2012-10-12 14:53:27\n",
              "2    295  ...  2012-06-09 03:47:18\n",
              "3    286  ...  2012-11-26 23:53:28\n",
              "4    264  ...  2012-10-25 15:21:17\n",
              "\n",
              "[5 rows x 16 columns]"
            ]
          },
          "metadata": {},
          "execution_count": 31
        }
      ]
    },
    {
      "cell_type": "code",
      "source": [
        "train_df.columns"
      ],
      "metadata": {
        "colab": {
          "base_uri": "https://localhost:8080/"
        },
        "id": "wEXyig3NV7H2",
        "outputId": "3d5199f2-9899-4287-9764-80881df20fe3"
      },
      "execution_count": 33,
      "outputs": [
        {
          "output_type": "execute_result",
          "data": {
            "text/plain": [
              "Index(['score', 'domain', 'id', 'title', 'author', 'ups', 'downs',\n",
              "       'num_comments', 'permalink', 'over_18', 'subreddit_id', 'edited',\n",
              "       'is_self', 'name', 'url', 'created_date'],\n",
              "      dtype='object')"
            ]
          },
          "metadata": {},
          "execution_count": 33
        }
      ]
    },
    {
      "cell_type": "code",
      "source": [
        "imp_cols=['score','title','author','author','ups','downs','num_comments','over_18','is_self','created_date']"
      ],
      "metadata": {
        "id": "Fu5RRXPwV9Oz"
      },
      "execution_count": 34,
      "outputs": []
    },
    {
      "cell_type": "code",
      "source": [
        "train_df=train_df[imp_cols]"
      ],
      "metadata": {
        "id": "vpE2-mpKXFfR"
      },
      "execution_count": 35,
      "outputs": []
    },
    {
      "cell_type": "markdown",
      "source": [
        "## Finding out the missing values in the data."
      ],
      "metadata": {
        "id": "Z6QWGsoYXUka"
      }
    },
    {
      "cell_type": "code",
      "source": [
        "train_df.isnull().sum()"
      ],
      "metadata": {
        "colab": {
          "base_uri": "https://localhost:8080/"
        },
        "id": "OX_5kJe5XMsm",
        "outputId": "8694edc1-e27b-4f57-9b9f-c493ca151f3d"
      },
      "execution_count": 37,
      "outputs": [
        {
          "output_type": "execute_result",
          "data": {
            "text/plain": [
              "score               0\n",
              "title               0\n",
              "author          12958\n",
              "author          12958\n",
              "ups             23363\n",
              "downs           15426\n",
              "num_comments     7732\n",
              "over_18             0\n",
              "is_self             0\n",
              "created_date        1\n",
              "dtype: int64"
            ]
          },
          "metadata": {},
          "execution_count": 37
        }
      ]
    },
    {
      "cell_type": "code",
      "source": [
        "## Let us delete the missing rows as number of votes ups and down matters a lot.\n",
        "train_df.dropna(axis=0,inplace=True)"
      ],
      "metadata": {
        "colab": {
          "base_uri": "https://localhost:8080/"
        },
        "id": "h68DJSX1XOOL",
        "outputId": "c7904be8-27ab-4b7a-9286-6c1e6bcd2cd3"
      },
      "execution_count": 39,
      "outputs": [
        {
          "output_type": "stream",
          "name": "stderr",
          "text": [
            "/usr/local/lib/python3.7/dist-packages/ipykernel_launcher.py:2: SettingWithCopyWarning: \n",
            "A value is trying to be set on a copy of a slice from a DataFrame\n",
            "\n",
            "See the caveats in the documentation: https://pandas.pydata.org/pandas-docs/stable/user_guide/indexing.html#returning-a-view-versus-a-copy\n",
            "  \n"
          ]
        }
      ]
    },
    {
      "cell_type": "code",
      "source": [
        "## Lets check whether any missing values are not there\n",
        "train_df.isnull().sum()"
      ],
      "metadata": {
        "colab": {
          "base_uri": "https://localhost:8080/"
        },
        "id": "FgzdEryDYD7_",
        "outputId": "edec4bf5-ca91-42ab-d87b-daaa2abbf73d"
      },
      "execution_count": 41,
      "outputs": [
        {
          "output_type": "execute_result",
          "data": {
            "text/plain": [
              "score           0\n",
              "title           0\n",
              "author          0\n",
              "author          0\n",
              "ups             0\n",
              "downs           0\n",
              "num_comments    0\n",
              "over_18         0\n",
              "is_self         0\n",
              "created_date    0\n",
              "dtype: int64"
            ]
          },
          "metadata": {},
          "execution_count": 41
        }
      ]
    },
    {
      "cell_type": "code",
      "source": [
        "target_col=['score']"
      ],
      "metadata": {
        "id": "tA8Rs13GXqiT"
      },
      "execution_count": 40,
      "outputs": []
    },
    {
      "cell_type": "code",
      "source": [
        "pd.to_datetime(train_df.created_date).dt.year"
      ],
      "metadata": {
        "colab": {
          "base_uri": "https://localhost:8080/"
        },
        "id": "ymF6peLhYvzp",
        "outputId": "9b1439ac-7c07-48ff-f014-e5bb8695ebe8"
      },
      "execution_count": 44,
      "outputs": [
        {
          "output_type": "execute_result",
          "data": {
            "text/plain": [
              "2         2012\n",
              "3         2012\n",
              "5         2012\n",
              "6         2012\n",
              "7         2012\n",
              "          ... \n",
              "154242    2010\n",
              "154243    2010\n",
              "154244    2012\n",
              "154245    2012\n",
              "154246    2012\n",
              "Name: created_date, Length: 102503, dtype: int64"
            ]
          },
          "metadata": {},
          "execution_count": 44
        }
      ]
    },
    {
      "cell_type": "code",
      "source": [
        "## Let us segregate the post wise month and year and week day\n",
        "train_df['year']=pd.to_datetime(train_df.created_date).dt.year\n",
        "train_df['month']=pd.to_datetime(train_df.created_date).dt.month\n",
        "train_df['weekday']=pd.to_datetime(train_df.created_date).dt.weekday\n"
      ],
      "metadata": {
        "colab": {
          "base_uri": "https://localhost:8080/"
        },
        "id": "7Ul85HI4Y4wt",
        "outputId": "20721464-8b48-4793-9a98-a46414f82244"
      },
      "execution_count": 45,
      "outputs": [
        {
          "output_type": "stream",
          "name": "stderr",
          "text": [
            "/usr/local/lib/python3.7/dist-packages/ipykernel_launcher.py:2: SettingWithCopyWarning: \n",
            "A value is trying to be set on a copy of a slice from a DataFrame.\n",
            "Try using .loc[row_indexer,col_indexer] = value instead\n",
            "\n",
            "See the caveats in the documentation: https://pandas.pydata.org/pandas-docs/stable/user_guide/indexing.html#returning-a-view-versus-a-copy\n",
            "  \n",
            "/usr/local/lib/python3.7/dist-packages/ipykernel_launcher.py:3: SettingWithCopyWarning: \n",
            "A value is trying to be set on a copy of a slice from a DataFrame.\n",
            "Try using .loc[row_indexer,col_indexer] = value instead\n",
            "\n",
            "See the caveats in the documentation: https://pandas.pydata.org/pandas-docs/stable/user_guide/indexing.html#returning-a-view-versus-a-copy\n",
            "  This is separate from the ipykernel package so we can avoid doing imports until\n",
            "/usr/local/lib/python3.7/dist-packages/ipykernel_launcher.py:4: SettingWithCopyWarning: \n",
            "A value is trying to be set on a copy of a slice from a DataFrame.\n",
            "Try using .loc[row_indexer,col_indexer] = value instead\n",
            "\n",
            "See the caveats in the documentation: https://pandas.pydata.org/pandas-docs/stable/user_guide/indexing.html#returning-a-view-versus-a-copy\n",
            "  after removing the cwd from sys.path.\n"
          ]
        }
      ]
    },
    {
      "cell_type": "code",
      "source": [
        "train_df.head()"
      ],
      "metadata": {
        "colab": {
          "base_uri": "https://localhost:8080/",
          "height": 583
        },
        "id": "UgBUpyEMZXNM",
        "outputId": "8b3b00c3-7b2e-4a9c-e1d8-a757492431c7"
      },
      "execution_count": 47,
      "outputs": [
        {
          "output_type": "execute_result",
          "data": {
            "text/html": [
              "\n",
              "  <div id=\"df-3c9cc2de-588b-4826-8165-b54cbed15818\">\n",
              "    <div class=\"colab-df-container\">\n",
              "      <div>\n",
              "<style scoped>\n",
              "    .dataframe tbody tr th:only-of-type {\n",
              "        vertical-align: middle;\n",
              "    }\n",
              "\n",
              "    .dataframe tbody tr th {\n",
              "        vertical-align: top;\n",
              "    }\n",
              "\n",
              "    .dataframe thead th {\n",
              "        text-align: right;\n",
              "    }\n",
              "</style>\n",
              "<table border=\"1\" class=\"dataframe\">\n",
              "  <thead>\n",
              "    <tr style=\"text-align: right;\">\n",
              "      <th></th>\n",
              "      <th>score</th>\n",
              "      <th>title</th>\n",
              "      <th>author</th>\n",
              "      <th>author</th>\n",
              "      <th>ups</th>\n",
              "      <th>downs</th>\n",
              "      <th>num_comments</th>\n",
              "      <th>over_18</th>\n",
              "      <th>is_self</th>\n",
              "      <th>created_date</th>\n",
              "      <th>year</th>\n",
              "      <th>month</th>\n",
              "      <th>weekday</th>\n",
              "    </tr>\n",
              "  </thead>\n",
              "  <tbody>\n",
              "    <tr>\n",
              "      <th>2</th>\n",
              "      <td>295</td>\n",
              "      <td>Not being a programmer in 0x10c</td>\n",
              "      <td>Urgin</td>\n",
              "      <td>Urgin</td>\n",
              "      <td>333.0</td>\n",
              "      <td>38.0</td>\n",
              "      <td>34.0</td>\n",
              "      <td>False</td>\n",
              "      <td>False</td>\n",
              "      <td>2012-06-09 03:47:18</td>\n",
              "      <td>2012</td>\n",
              "      <td>6</td>\n",
              "      <td>5</td>\n",
              "    </tr>\n",
              "    <tr>\n",
              "      <th>3</th>\n",
              "      <td>286</td>\n",
              "      <td>At Minecon one of the Mojang guys told me that...</td>\n",
              "      <td>BubblegumBalloon</td>\n",
              "      <td>BubblegumBalloon</td>\n",
              "      <td>313.0</td>\n",
              "      <td>27.0</td>\n",
              "      <td>329.0</td>\n",
              "      <td>False</td>\n",
              "      <td>False</td>\n",
              "      <td>2012-11-26 23:53:28</td>\n",
              "      <td>2012</td>\n",
              "      <td>11</td>\n",
              "      <td>0</td>\n",
              "    </tr>\n",
              "    <tr>\n",
              "      <th>5</th>\n",
              "      <td>238</td>\n",
              "      <td>This alone would make for a game that I would ...</td>\n",
              "      <td>nomlah</td>\n",
              "      <td>nomlah</td>\n",
              "      <td>255.0</td>\n",
              "      <td>17.0</td>\n",
              "      <td>46.0</td>\n",
              "      <td>False</td>\n",
              "      <td>False</td>\n",
              "      <td>2012-09-20 02:09:09</td>\n",
              "      <td>2012</td>\n",
              "      <td>9</td>\n",
              "      <td>3</td>\n",
              "    </tr>\n",
              "    <tr>\n",
              "      <th>6</th>\n",
              "      <td>236</td>\n",
              "      <td>Notch makes a multiplayer test of 0x10c!</td>\n",
              "      <td>TheNikodilay</td>\n",
              "      <td>TheNikodilay</td>\n",
              "      <td>259.0</td>\n",
              "      <td>23.0</td>\n",
              "      <td>82.0</td>\n",
              "      <td>False</td>\n",
              "      <td>False</td>\n",
              "      <td>2012-10-22 14:36:57</td>\n",
              "      <td>2012</td>\n",
              "      <td>10</td>\n",
              "      <td>0</td>\n",
              "    </tr>\n",
              "    <tr>\n",
              "      <th>7</th>\n",
              "      <td>216</td>\n",
              "      <td>Screenshot of the new ship builder that Notch ...</td>\n",
              "      <td>RobertJFClarke</td>\n",
              "      <td>RobertJFClarke</td>\n",
              "      <td>230.0</td>\n",
              "      <td>14.0</td>\n",
              "      <td>34.0</td>\n",
              "      <td>False</td>\n",
              "      <td>False</td>\n",
              "      <td>2012-11-21 09:52:26</td>\n",
              "      <td>2012</td>\n",
              "      <td>11</td>\n",
              "      <td>2</td>\n",
              "    </tr>\n",
              "  </tbody>\n",
              "</table>\n",
              "</div>\n",
              "      <button class=\"colab-df-convert\" onclick=\"convertToInteractive('df-3c9cc2de-588b-4826-8165-b54cbed15818')\"\n",
              "              title=\"Convert this dataframe to an interactive table.\"\n",
              "              style=\"display:none;\">\n",
              "        \n",
              "  <svg xmlns=\"http://www.w3.org/2000/svg\" height=\"24px\"viewBox=\"0 0 24 24\"\n",
              "       width=\"24px\">\n",
              "    <path d=\"M0 0h24v24H0V0z\" fill=\"none\"/>\n",
              "    <path d=\"M18.56 5.44l.94 2.06.94-2.06 2.06-.94-2.06-.94-.94-2.06-.94 2.06-2.06.94zm-11 1L8.5 8.5l.94-2.06 2.06-.94-2.06-.94L8.5 2.5l-.94 2.06-2.06.94zm10 10l.94 2.06.94-2.06 2.06-.94-2.06-.94-.94-2.06-.94 2.06-2.06.94z\"/><path d=\"M17.41 7.96l-1.37-1.37c-.4-.4-.92-.59-1.43-.59-.52 0-1.04.2-1.43.59L10.3 9.45l-7.72 7.72c-.78.78-.78 2.05 0 2.83L4 21.41c.39.39.9.59 1.41.59.51 0 1.02-.2 1.41-.59l7.78-7.78 2.81-2.81c.8-.78.8-2.07 0-2.86zM5.41 20L4 18.59l7.72-7.72 1.47 1.35L5.41 20z\"/>\n",
              "  </svg>\n",
              "      </button>\n",
              "      \n",
              "  <style>\n",
              "    .colab-df-container {\n",
              "      display:flex;\n",
              "      flex-wrap:wrap;\n",
              "      gap: 12px;\n",
              "    }\n",
              "\n",
              "    .colab-df-convert {\n",
              "      background-color: #E8F0FE;\n",
              "      border: none;\n",
              "      border-radius: 50%;\n",
              "      cursor: pointer;\n",
              "      display: none;\n",
              "      fill: #1967D2;\n",
              "      height: 32px;\n",
              "      padding: 0 0 0 0;\n",
              "      width: 32px;\n",
              "    }\n",
              "\n",
              "    .colab-df-convert:hover {\n",
              "      background-color: #E2EBFA;\n",
              "      box-shadow: 0px 1px 2px rgba(60, 64, 67, 0.3), 0px 1px 3px 1px rgba(60, 64, 67, 0.15);\n",
              "      fill: #174EA6;\n",
              "    }\n",
              "\n",
              "    [theme=dark] .colab-df-convert {\n",
              "      background-color: #3B4455;\n",
              "      fill: #D2E3FC;\n",
              "    }\n",
              "\n",
              "    [theme=dark] .colab-df-convert:hover {\n",
              "      background-color: #434B5C;\n",
              "      box-shadow: 0px 1px 3px 1px rgba(0, 0, 0, 0.15);\n",
              "      filter: drop-shadow(0px 1px 2px rgba(0, 0, 0, 0.3));\n",
              "      fill: #FFFFFF;\n",
              "    }\n",
              "  </style>\n",
              "\n",
              "      <script>\n",
              "        const buttonEl =\n",
              "          document.querySelector('#df-3c9cc2de-588b-4826-8165-b54cbed15818 button.colab-df-convert');\n",
              "        buttonEl.style.display =\n",
              "          google.colab.kernel.accessAllowed ? 'block' : 'none';\n",
              "\n",
              "        async function convertToInteractive(key) {\n",
              "          const element = document.querySelector('#df-3c9cc2de-588b-4826-8165-b54cbed15818');\n",
              "          const dataTable =\n",
              "            await google.colab.kernel.invokeFunction('convertToInteractive',\n",
              "                                                     [key], {});\n",
              "          if (!dataTable) return;\n",
              "\n",
              "          const docLinkHtml = 'Like what you see? Visit the ' +\n",
              "            '<a target=\"_blank\" href=https://colab.research.google.com/notebooks/data_table.ipynb>data table notebook</a>'\n",
              "            + ' to learn more about interactive tables.';\n",
              "          element.innerHTML = '';\n",
              "          dataTable['output_type'] = 'display_data';\n",
              "          await google.colab.output.renderOutput(dataTable, element);\n",
              "          const docLink = document.createElement('div');\n",
              "          docLink.innerHTML = docLinkHtml;\n",
              "          element.appendChild(docLink);\n",
              "        }\n",
              "      </script>\n",
              "    </div>\n",
              "  </div>\n",
              "  "
            ],
            "text/plain": [
              "   score                                              title  ... month weekday\n",
              "2    295                    Not being a programmer in 0x10c  ...     6       5\n",
              "3    286  At Minecon one of the Mojang guys told me that...  ...    11       0\n",
              "5    238  This alone would make for a game that I would ...  ...     9       3\n",
              "6    236           Notch makes a multiplayer test of 0x10c!  ...    10       0\n",
              "7    216  Screenshot of the new ship builder that Notch ...  ...    11       2\n",
              "\n",
              "[5 rows x 13 columns]"
            ]
          },
          "metadata": {},
          "execution_count": 47
        }
      ]
    },
    {
      "cell_type": "code",
      "source": [
        "train_df.year.unique()\n",
        "sns.countplot(data=train_df,x='year',palette='rainbow')\n",
        "plt.title(' Post year wise');"
      ],
      "metadata": {
        "colab": {
          "base_uri": "https://localhost:8080/",
          "height": 295
        },
        "id": "e_SsGC8YZyNV",
        "outputId": "eb211998-bb99-4821-c724-9752cfcbb054"
      },
      "execution_count": 52,
      "outputs": [
        {
          "output_type": "display_data",
          "data": {
            "image/png": "[encoded data removed]",
            "text/plain": [
              "<Figure size 432x288 with 1 Axes>"
            ]
          },
          "metadata": {
            "needs_background": "light"
          }
        }
      ]
    },
    {
      "cell_type": "code",
      "source": [
        "# Similarly let see the data wise month\n",
        "train_df.year.unique()\n",
        "sns.countplot(data=train_df,x='month',hue='year',palette='BuPu')\n",
        "plt.title(' Post year wise');"
      ],
      "metadata": {
        "colab": {
          "base_uri": "https://localhost:8080/",
          "height": 295
        },
        "id": "9l1I5Et-X83n",
        "outputId": "c67550c9-b827-4b4e-d53c-8584d27fe328"
      },
      "execution_count": 54,
      "outputs": [
        {
          "output_type": "display_data",
          "data": {
            "image/png": "[encoded data removed]",
            "text/plain": [
              "<Figure size 432x288 with 1 Axes>"
            ]
          },
          "metadata": {
            "needs_background": "light"
          }
        }
      ]
    },
    {
      "cell_type": "markdown",
      "source": [
        "**As it can be seen most of the posts are from 2012 may be teh data is not taken in the earlier years.**"
      ],
      "metadata": {
        "id": "47ufcszXaozy"
      }
    },
    {
      "cell_type": "code",
      "source": [
        "train_df.columns.tolist()"
      ],
      "metadata": {
        "colab": {
          "base_uri": "https://localhost:8080/"
        },
        "id": "p_OiusnEYu4P",
        "outputId": "e0b2f6c5-3b8a-4fcb-b532-6466e1f5f12f"
      },
      "execution_count": 103,
      "outputs": [
        {
          "output_type": "execute_result",
          "data": {
            "text/plain": [
              "['score',\n",
              " 'title',\n",
              " 'author',\n",
              " 'author',\n",
              " 'ups',\n",
              " 'downs',\n",
              " 'num_comments',\n",
              " 'over_18',\n",
              " 'is_self',\n",
              " 'created_date',\n",
              " 'year',\n",
              " 'month',\n",
              " 'weekday']"
            ]
          },
          "metadata": {},
          "execution_count": 103
        }
      ]
    },
    {
      "cell_type": "code",
      "source": [
        "input_cols=['ups','downs','num_comments','over_18','is_self','year','month']"
      ],
      "metadata": {
        "id": "0IZMMbhLZYqi"
      },
      "execution_count": 104,
      "outputs": []
    },
    {
      "cell_type": "code",
      "source": [
        "train_df1=train_df[input_cols].copy()\n",
        "train_target=train_df[target_col].copy()"
      ],
      "metadata": {
        "id": "UEy-I2eCbYd7"
      },
      "execution_count": 118,
      "outputs": []
    },
    {
      "cell_type": "code",
      "source": [
        "train_df1"
      ],
      "metadata": {
        "colab": {
          "base_uri": "https://localhost:8080/",
          "height": 424
        },
        "id": "p0EEG0Y6bg7f",
        "outputId": "447fe219-6b82-4c97-8fa1-f647258ba786"
      },
      "execution_count": 119,
      "outputs": [
        {
          "output_type": "execute_result",
          "data": {
            "text/html": [
              "\n",
              "  <div id=\"df-063b06ad-9ab6-4aff-bf3f-8cbac5c4bd08\">\n",
              "    <div class=\"colab-df-container\">\n",
              "      <div>\n",
              "<style scoped>\n",
              "    .dataframe tbody tr th:only-of-type {\n",
              "        vertical-align: middle;\n",
              "    }\n",
              "\n",
              "    .dataframe tbody tr th {\n",
              "        vertical-align: top;\n",
              "    }\n",
              "\n",
              "    .dataframe thead th {\n",
              "        text-align: right;\n",
              "    }\n",
              "</style>\n",
              "<table border=\"1\" class=\"dataframe\">\n",
              "  <thead>\n",
              "    <tr style=\"text-align: right;\">\n",
              "      <th></th>\n",
              "      <th>ups</th>\n",
              "      <th>downs</th>\n",
              "      <th>num_comments</th>\n",
              "      <th>over_18</th>\n",
              "      <th>is_self</th>\n",
              "      <th>year</th>\n",
              "      <th>month</th>\n",
              "    </tr>\n",
              "  </thead>\n",
              "  <tbody>\n",
              "    <tr>\n",
              "      <th>2</th>\n",
              "      <td>333.0</td>\n",
              "      <td>38.0</td>\n",
              "      <td>34.0</td>\n",
              "      <td>False</td>\n",
              "      <td>False</td>\n",
              "      <td>2012</td>\n",
              "      <td>6</td>\n",
              "    </tr>\n",
              "    <tr>\n",
              "      <th>3</th>\n",
              "      <td>313.0</td>\n",
              "      <td>27.0</td>\n",
              "      <td>329.0</td>\n",
              "      <td>False</td>\n",
              "      <td>False</td>\n",
              "      <td>2012</td>\n",
              "      <td>11</td>\n",
              "    </tr>\n",
              "    <tr>\n",
              "      <th>5</th>\n",
              "      <td>255.0</td>\n",
              "      <td>17.0</td>\n",
              "      <td>46.0</td>\n",
              "      <td>False</td>\n",
              "      <td>False</td>\n",
              "      <td>2012</td>\n",
              "      <td>9</td>\n",
              "    </tr>\n",
              "    <tr>\n",
              "      <th>6</th>\n",
              "      <td>259.0</td>\n",
              "      <td>23.0</td>\n",
              "      <td>82.0</td>\n",
              "      <td>False</td>\n",
              "      <td>False</td>\n",
              "      <td>2012</td>\n",
              "      <td>10</td>\n",
              "    </tr>\n",
              "    <tr>\n",
              "      <th>7</th>\n",
              "      <td>230.0</td>\n",
              "      <td>14.0</td>\n",
              "      <td>34.0</td>\n",
              "      <td>False</td>\n",
              "      <td>False</td>\n",
              "      <td>2012</td>\n",
              "      <td>11</td>\n",
              "    </tr>\n",
              "    <tr>\n",
              "      <th>...</th>\n",
              "      <td>...</td>\n",
              "      <td>...</td>\n",
              "      <td>...</td>\n",
              "      <td>...</td>\n",
              "      <td>...</td>\n",
              "      <td>...</td>\n",
              "      <td>...</td>\n",
              "    </tr>\n",
              "    <tr>\n",
              "      <th>154242</th>\n",
              "      <td>9.0</td>\n",
              "      <td>0.0</td>\n",
              "      <td>4.0</td>\n",
              "      <td>False</td>\n",
              "      <td>False</td>\n",
              "      <td>2010</td>\n",
              "      <td>4</td>\n",
              "    </tr>\n",
              "    <tr>\n",
              "      <th>154243</th>\n",
              "      <td>7.0</td>\n",
              "      <td>0.0</td>\n",
              "      <td>0.0</td>\n",
              "      <td>False</td>\n",
              "      <td>False</td>\n",
              "      <td>2010</td>\n",
              "      <td>4</td>\n",
              "    </tr>\n",
              "    <tr>\n",
              "      <th>154244</th>\n",
              "      <td>7.0</td>\n",
              "      <td>1.0</td>\n",
              "      <td>0.0</td>\n",
              "      <td>False</td>\n",
              "      <td>True</td>\n",
              "      <td>2012</td>\n",
              "      <td>12</td>\n",
              "    </tr>\n",
              "    <tr>\n",
              "      <th>154245</th>\n",
              "      <td>9.0</td>\n",
              "      <td>3.0</td>\n",
              "      <td>2.0</td>\n",
              "      <td>False</td>\n",
              "      <td>True</td>\n",
              "      <td>2012</td>\n",
              "      <td>11</td>\n",
              "    </tr>\n",
              "    <tr>\n",
              "      <th>154246</th>\n",
              "      <td>6.0</td>\n",
              "      <td>2.0</td>\n",
              "      <td>1.0</td>\n",
              "      <td>False</td>\n",
              "      <td>True</td>\n",
              "      <td>2012</td>\n",
              "      <td>11</td>\n",
              "    </tr>\n",
              "  </tbody>\n",
              "</table>\n",
              "<p>102503 rows × 7 columns</p>\n",
              "</div>\n",
              "      <button class=\"colab-df-convert\" onclick=\"convertToInteractive('df-063b06ad-9ab6-4aff-bf3f-8cbac5c4bd08')\"\n",
              "              title=\"Convert this dataframe to an interactive table.\"\n",
              "              style=\"display:none;\">\n",
              "        \n",
              "  <svg xmlns=\"http://www.w3.org/2000/svg\" height=\"24px\"viewBox=\"0 0 24 24\"\n",
              "       width=\"24px\">\n",
              "    <path d=\"M0 0h24v24H0V0z\" fill=\"none\"/>\n",
              "    <path d=\"M18.56 5.44l.94 2.06.94-2.06 2.06-.94-2.06-.94-.94-2.06-.94 2.06-2.06.94zm-11 1L8.5 8.5l.94-2.06 2.06-.94-2.06-.94L8.5 2.5l-.94 2.06-2.06.94zm10 10l.94 2.06.94-2.06 2.06-.94-2.06-.94-.94-2.06-.94 2.06-2.06.94z\"/><path d=\"M17.41 7.96l-1.37-1.37c-.4-.4-.92-.59-1.43-.59-.52 0-1.04.2-1.43.59L10.3 9.45l-7.72 7.72c-.78.78-.78 2.05 0 2.83L4 21.41c.39.39.9.59 1.41.59.51 0 1.02-.2 1.41-.59l7.78-7.78 2.81-2.81c.8-.78.8-2.07 0-2.86zM5.41 20L4 18.59l7.72-7.72 1.47 1.35L5.41 20z\"/>\n",
              "  </svg>\n",
              "      </button>\n",
              "      \n",
              "  <style>\n",
              "    .colab-df-container {\n",
              "      display:flex;\n",
              "      flex-wrap:wrap;\n",
              "      gap: 12px;\n",
              "    }\n",
              "\n",
              "    .colab-df-convert {\n",
              "      background-color: #E8F0FE;\n",
              "      border: none;\n",
              "      border-radius: 50%;\n",
              "      cursor: pointer;\n",
              "      display: none;\n",
              "      fill: #1967D2;\n",
              "      height: 32px;\n",
              "      padding: 0 0 0 0;\n",
              "      width: 32px;\n",
              "    }\n",
              "\n",
              "    .colab-df-convert:hover {\n",
              "      background-color: #E2EBFA;\n",
              "      box-shadow: 0px 1px 2px rgba(60, 64, 67, 0.3), 0px 1px 3px 1px rgba(60, 64, 67, 0.15);\n",
              "      fill: #174EA6;\n",
              "    }\n",
              "\n",
              "    [theme=dark] .colab-df-convert {\n",
              "      background-color: #3B4455;\n",
              "      fill: #D2E3FC;\n",
              "    }\n",
              "\n",
              "    [theme=dark] .colab-df-convert:hover {\n",
              "      background-color: #434B5C;\n",
              "      box-shadow: 0px 1px 3px 1px rgba(0, 0, 0, 0.15);\n",
              "      filter: drop-shadow(0px 1px 2px rgba(0, 0, 0, 0.3));\n",
              "      fill: #FFFFFF;\n",
              "    }\n",
              "  </style>\n",
              "\n",
              "      <script>\n",
              "        const buttonEl =\n",
              "          document.querySelector('#df-063b06ad-9ab6-4aff-bf3f-8cbac5c4bd08 button.colab-df-convert');\n",
              "        buttonEl.style.display =\n",
              "          google.colab.kernel.accessAllowed ? 'block' : 'none';\n",
              "\n",
              "        async function convertToInteractive(key) {\n",
              "          const element = document.querySelector('#df-063b06ad-9ab6-4aff-bf3f-8cbac5c4bd08');\n",
              "          const dataTable =\n",
              "            await google.colab.kernel.invokeFunction('convertToInteractive',\n",
              "                                                     [key], {});\n",
              "          if (!dataTable) return;\n",
              "\n",
              "          const docLinkHtml = 'Like what you see? Visit the ' +\n",
              "            '<a target=\"_blank\" href=https://colab.research.google.com/notebooks/data_table.ipynb>data table notebook</a>'\n",
              "            + ' to learn more about interactive tables.';\n",
              "          element.innerHTML = '';\n",
              "          dataTable['output_type'] = 'display_data';\n",
              "          await google.colab.output.renderOutput(dataTable, element);\n",
              "          const docLink = document.createElement('div');\n",
              "          docLink.innerHTML = docLinkHtml;\n",
              "          element.appendChild(docLink);\n",
              "        }\n",
              "      </script>\n",
              "    </div>\n",
              "  </div>\n",
              "  "
            ],
            "text/plain": [
              "          ups  downs  num_comments  over_18  is_self  year  month\n",
              "2       333.0   38.0          34.0    False    False  2012      6\n",
              "3       313.0   27.0         329.0    False    False  2012     11\n",
              "5       255.0   17.0          46.0    False    False  2012      9\n",
              "6       259.0   23.0          82.0    False    False  2012     10\n",
              "7       230.0   14.0          34.0    False    False  2012     11\n",
              "...       ...    ...           ...      ...      ...   ...    ...\n",
              "154242    9.0    0.0           4.0    False    False  2010      4\n",
              "154243    7.0    0.0           0.0    False    False  2010      4\n",
              "154244    7.0    1.0           0.0    False     True  2012     12\n",
              "154245    9.0    3.0           2.0    False     True  2012     11\n",
              "154246    6.0    2.0           1.0    False     True  2012     11\n",
              "\n",
              "[102503 rows x 7 columns]"
            ]
          },
          "metadata": {},
          "execution_count": 119
        }
      ]
    },
    {
      "cell_type": "code",
      "source": [
        "code={True:1,False:0}"
      ],
      "metadata": {
        "id": "wlntgxddf7-g"
      },
      "execution_count": 120,
      "outputs": []
    },
    {
      "cell_type": "code",
      "source": [
        "train_df1['over_18']=train_df1['over_18'].map(code)\n",
        "train_df1['is_self']=train_df1['is_self'].map(code)"
      ],
      "metadata": {
        "id": "Z5RaXkkYcggP"
      },
      "execution_count": 121,
      "outputs": []
    },
    {
      "cell_type": "code",
      "source": [
        "train_df1"
      ],
      "metadata": {
        "colab": {
          "base_uri": "https://localhost:8080/",
          "height": 424
        },
        "id": "jUooeGvRfj5w",
        "outputId": "be9f16a3-0983-4356-def9-04e5e8c03541"
      },
      "execution_count": 122,
      "outputs": [
        {
          "output_type": "execute_result",
          "data": {
            "text/html": [
              "\n",
              "  <div id=\"df-9de96e6f-6f35-4991-8e3b-53e32cd25cab\">\n",
              "    <div class=\"colab-df-container\">\n",
              "      <div>\n",
              "<style scoped>\n",
              "    .dataframe tbody tr th:only-of-type {\n",
              "        vertical-align: middle;\n",
              "    }\n",
              "\n",
              "    .dataframe tbody tr th {\n",
              "        vertical-align: top;\n",
              "    }\n",
              "\n",
              "    .dataframe thead th {\n",
              "        text-align: right;\n",
              "    }\n",
              "</style>\n",
              "<table border=\"1\" class=\"dataframe\">\n",
              "  <thead>\n",
              "    <tr style=\"text-align: right;\">\n",
              "      <th></th>\n",
              "      <th>ups</th>\n",
              "      <th>downs</th>\n",
              "      <th>num_comments</th>\n",
              "      <th>over_18</th>\n",
              "      <th>is_self</th>\n",
              "      <th>year</th>\n",
              "      <th>month</th>\n",
              "    </tr>\n",
              "  </thead>\n",
              "  <tbody>\n",
              "    <tr>\n",
              "      <th>2</th>\n",
              "      <td>333.0</td>\n",
              "      <td>38.0</td>\n",
              "      <td>34.0</td>\n",
              "      <td>0</td>\n",
              "      <td>0</td>\n",
              "      <td>2012</td>\n",
              "      <td>6</td>\n",
              "    </tr>\n",
              "    <tr>\n",
              "      <th>3</th>\n",
              "      <td>313.0</td>\n",
              "      <td>27.0</td>\n",
              "      <td>329.0</td>\n",
              "      <td>0</td>\n",
              "      <td>0</td>\n",
              "      <td>2012</td>\n",
              "      <td>11</td>\n",
              "    </tr>\n",
              "    <tr>\n",
              "      <th>5</th>\n",
              "      <td>255.0</td>\n",
              "      <td>17.0</td>\n",
              "      <td>46.0</td>\n",
              "      <td>0</td>\n",
              "      <td>0</td>\n",
              "      <td>2012</td>\n",
              "      <td>9</td>\n",
              "    </tr>\n",
              "    <tr>\n",
              "      <th>6</th>\n",
              "      <td>259.0</td>\n",
              "      <td>23.0</td>\n",
              "      <td>82.0</td>\n",
              "      <td>0</td>\n",
              "      <td>0</td>\n",
              "      <td>2012</td>\n",
              "      <td>10</td>\n",
              "    </tr>\n",
              "    <tr>\n",
              "      <th>7</th>\n",
              "      <td>230.0</td>\n",
              "      <td>14.0</td>\n",
              "      <td>34.0</td>\n",
              "      <td>0</td>\n",
              "      <td>0</td>\n",
              "      <td>2012</td>\n",
              "      <td>11</td>\n",
              "    </tr>\n",
              "    <tr>\n",
              "      <th>...</th>\n",
              "      <td>...</td>\n",
              "      <td>...</td>\n",
              "      <td>...</td>\n",
              "      <td>...</td>\n",
              "      <td>...</td>\n",
              "      <td>...</td>\n",
              "      <td>...</td>\n",
              "    </tr>\n",
              "    <tr>\n",
              "      <th>154242</th>\n",
              "      <td>9.0</td>\n",
              "      <td>0.0</td>\n",
              "      <td>4.0</td>\n",
              "      <td>0</td>\n",
              "      <td>0</td>\n",
              "      <td>2010</td>\n",
              "      <td>4</td>\n",
              "    </tr>\n",
              "    <tr>\n",
              "      <th>154243</th>\n",
              "      <td>7.0</td>\n",
              "      <td>0.0</td>\n",
              "      <td>0.0</td>\n",
              "      <td>0</td>\n",
              "      <td>0</td>\n",
              "      <td>2010</td>\n",
              "      <td>4</td>\n",
              "    </tr>\n",
              "    <tr>\n",
              "      <th>154244</th>\n",
              "      <td>7.0</td>\n",
              "      <td>1.0</td>\n",
              "      <td>0.0</td>\n",
              "      <td>0</td>\n",
              "      <td>1</td>\n",
              "      <td>2012</td>\n",
              "      <td>12</td>\n",
              "    </tr>\n",
              "    <tr>\n",
              "      <th>154245</th>\n",
              "      <td>9.0</td>\n",
              "      <td>3.0</td>\n",
              "      <td>2.0</td>\n",
              "      <td>0</td>\n",
              "      <td>1</td>\n",
              "      <td>2012</td>\n",
              "      <td>11</td>\n",
              "    </tr>\n",
              "    <tr>\n",
              "      <th>154246</th>\n",
              "      <td>6.0</td>\n",
              "      <td>2.0</td>\n",
              "      <td>1.0</td>\n",
              "      <td>0</td>\n",
              "      <td>1</td>\n",
              "      <td>2012</td>\n",
              "      <td>11</td>\n",
              "    </tr>\n",
              "  </tbody>\n",
              "</table>\n",
              "<p>102503 rows × 7 columns</p>\n",
              "</div>\n",
              "      <button class=\"colab-df-convert\" onclick=\"convertToInteractive('df-9de96e6f-6f35-4991-8e3b-53e32cd25cab')\"\n",
              "              title=\"Convert this dataframe to an interactive table.\"\n",
              "              style=\"display:none;\">\n",
              "        \n",
              "  <svg xmlns=\"http://www.w3.org/2000/svg\" height=\"24px\"viewBox=\"0 0 24 24\"\n",
              "       width=\"24px\">\n",
              "    <path d=\"M0 0h24v24H0V0z\" fill=\"none\"/>\n",
              "    <path d=\"M18.56 5.44l.94 2.06.94-2.06 2.06-.94-2.06-.94-.94-2.06-.94 2.06-2.06.94zm-11 1L8.5 8.5l.94-2.06 2.06-.94-2.06-.94L8.5 2.5l-.94 2.06-2.06.94zm10 10l.94 2.06.94-2.06 2.06-.94-2.06-.94-.94-2.06-.94 2.06-2.06.94z\"/><path d=\"M17.41 7.96l-1.37-1.37c-.4-.4-.92-.59-1.43-.59-.52 0-1.04.2-1.43.59L10.3 9.45l-7.72 7.72c-.78.78-.78 2.05 0 2.83L4 21.41c.39.39.9.59 1.41.59.51 0 1.02-.2 1.41-.59l7.78-7.78 2.81-2.81c.8-.78.8-2.07 0-2.86zM5.41 20L4 18.59l7.72-7.72 1.47 1.35L5.41 20z\"/>\n",
              "  </svg>\n",
              "      </button>\n",
              "      \n",
              "  <style>\n",
              "    .colab-df-container {\n",
              "      display:flex;\n",
              "      flex-wrap:wrap;\n",
              "      gap: 12px;\n",
              "    }\n",
              "\n",
              "    .colab-df-convert {\n",
              "      background-color: #E8F0FE;\n",
              "      border: none;\n",
              "      border-radius: 50%;\n",
              "      cursor: pointer;\n",
              "      display: none;\n",
              "      fill: #1967D2;\n",
              "      height: 32px;\n",
              "      padding: 0 0 0 0;\n",
              "      width: 32px;\n",
              "    }\n",
              "\n",
              "    .colab-df-convert:hover {\n",
              "      background-color: #E2EBFA;\n",
              "      box-shadow: 0px 1px 2px rgba(60, 64, 67, 0.3), 0px 1px 3px 1px rgba(60, 64, 67, 0.15);\n",
              "      fill: #174EA6;\n",
              "    }\n",
              "\n",
              "    [theme=dark] .colab-df-convert {\n",
              "      background-color: #3B4455;\n",
              "      fill: #D2E3FC;\n",
              "    }\n",
              "\n",
              "    [theme=dark] .colab-df-convert:hover {\n",
              "      background-color: #434B5C;\n",
              "      box-shadow: 0px 1px 3px 1px rgba(0, 0, 0, 0.15);\n",
              "      filter: drop-shadow(0px 1px 2px rgba(0, 0, 0, 0.3));\n",
              "      fill: #FFFFFF;\n",
              "    }\n",
              "  </style>\n",
              "\n",
              "      <script>\n",
              "        const buttonEl =\n",
              "          document.querySelector('#df-9de96e6f-6f35-4991-8e3b-53e32cd25cab button.colab-df-convert');\n",
              "        buttonEl.style.display =\n",
              "          google.colab.kernel.accessAllowed ? 'block' : 'none';\n",
              "\n",
              "        async function convertToInteractive(key) {\n",
              "          const element = document.querySelector('#df-9de96e6f-6f35-4991-8e3b-53e32cd25cab');\n",
              "          const dataTable =\n",
              "            await google.colab.kernel.invokeFunction('convertToInteractive',\n",
              "                                                     [key], {});\n",
              "          if (!dataTable) return;\n",
              "\n",
              "          const docLinkHtml = 'Like what you see? Visit the ' +\n",
              "            '<a target=\"_blank\" href=https://colab.research.google.com/notebooks/data_table.ipynb>data table notebook</a>'\n",
              "            + ' to learn more about interactive tables.';\n",
              "          element.innerHTML = '';\n",
              "          dataTable['output_type'] = 'display_data';\n",
              "          await google.colab.output.renderOutput(dataTable, element);\n",
              "          const docLink = document.createElement('div');\n",
              "          docLink.innerHTML = docLinkHtml;\n",
              "          element.appendChild(docLink);\n",
              "        }\n",
              "      </script>\n",
              "    </div>\n",
              "  </div>\n",
              "  "
            ],
            "text/plain": [
              "          ups  downs  num_comments  over_18  is_self  year  month\n",
              "2       333.0   38.0          34.0        0        0  2012      6\n",
              "3       313.0   27.0         329.0        0        0  2012     11\n",
              "5       255.0   17.0          46.0        0        0  2012      9\n",
              "6       259.0   23.0          82.0        0        0  2012     10\n",
              "7       230.0   14.0          34.0        0        0  2012     11\n",
              "...       ...    ...           ...      ...      ...   ...    ...\n",
              "154242    9.0    0.0           4.0        0        0  2010      4\n",
              "154243    7.0    0.0           0.0        0        0  2010      4\n",
              "154244    7.0    1.0           0.0        0        1  2012     12\n",
              "154245    9.0    3.0           2.0        0        1  2012     11\n",
              "154246    6.0    2.0           1.0        0        1  2012     11\n",
              "\n",
              "[102503 rows x 7 columns]"
            ]
          },
          "metadata": {},
          "execution_count": 122
        }
      ]
    },
    {
      "cell_type": "code",
      "source": [
        "numerical_cols=train_df1.select_dtypes(include=np.number).columns.tolist()"
      ],
      "metadata": {
        "id": "4f2Gv09Ycbqi"
      },
      "execution_count": 123,
      "outputs": []
    },
    {
      "cell_type": "code",
      "source": [
        "numerical_cols"
      ],
      "metadata": {
        "colab": {
          "base_uri": "https://localhost:8080/"
        },
        "id": "0WBDxsVBgY9c",
        "outputId": "9f6e1ff9-2f61-41d0-ed06-850ab8bde63f"
      },
      "execution_count": 124,
      "outputs": [
        {
          "output_type": "execute_result",
          "data": {
            "text/plain": [
              "['ups', 'downs', 'num_comments', 'over_18', 'is_self', 'year', 'month']"
            ]
          },
          "metadata": {},
          "execution_count": 124
        }
      ]
    },
    {
      "cell_type": "code",
      "source": [
        "## So after mapping the dataset we found that we dont have any categorical columns"
      ],
      "metadata": {
        "id": "UhyFY6Z6ei31"
      },
      "execution_count": 125,
      "outputs": []
    },
    {
      "cell_type": "code",
      "source": [
        "## As teh data can be seen in the disproportionate form\n",
        "from sklearn.preprocessing import MinMaxScaler"
      ],
      "metadata": {
        "id": "xkKXL4rBcMoc"
      },
      "execution_count": 126,
      "outputs": []
    },
    {
      "cell_type": "code",
      "source": [
        "scaler=MinMaxScaler().fit(train_df1[numerical_cols])"
      ],
      "metadata": {
        "id": "8bPtmo4-cX4V"
      },
      "execution_count": 127,
      "outputs": []
    },
    {
      "cell_type": "code",
      "source": [
        "train_df1[numerical_cols]=scaler.transform(train_df1[numerical_cols])"
      ],
      "metadata": {
        "id": "5H7AEyc8c2B_"
      },
      "execution_count": 128,
      "outputs": []
    },
    {
      "cell_type": "code",
      "source": [
        "## Splittingg the data \n",
        "from sklearn.model_selection import train_test_split"
      ],
      "metadata": {
        "id": "_qW-J222bmQY"
      },
      "execution_count": 129,
      "outputs": []
    },
    {
      "cell_type": "code",
      "source": [
        "train_inputs,val_inputs,train_targets,val_targets=train_test_split(train_df1,train_target,random_state=0,test_size=0.1)"
      ],
      "metadata": {
        "id": "_a9yT4Bzb607"
      },
      "execution_count": 130,
      "outputs": []
    },
    {
      "cell_type": "code",
      "source": [
        "from sklearn.ensemble import RandomForestRegressor"
      ],
      "metadata": {
        "id": "IOvUfwHQcKJj"
      },
      "execution_count": 132,
      "outputs": []
    },
    {
      "cell_type": "code",
      "source": [
        "model=RandomForestRegressor(n_jobs=-1,random_state=0).fit(train_inputs,train_targets)"
      ],
      "metadata": {
        "colab": {
          "base_uri": "https://localhost:8080/"
        },
        "id": "2YDW92n0fS4d",
        "outputId": "9cf7f63c-d51a-417b-f195-1a079f890344"
      },
      "execution_count": 133,
      "outputs": [
        {
          "output_type": "stream",
          "name": "stderr",
          "text": [
            "/usr/local/lib/python3.7/dist-packages/ipykernel_launcher.py:1: DataConversionWarning: A column-vector y was passed when a 1d array was expected. Please change the shape of y to (n_samples,), for example using ravel().\n",
            "  \"\"\"Entry point for launching an IPython kernel.\n"
          ]
        }
      ]
    },
    {
      "cell_type": "code",
      "source": [
        "prediction_test=model.predict(train_inputs)\n",
        "prediction_val=model.predict(val_inputs)"
      ],
      "metadata": {
        "id": "8ke6OSEGg7nv"
      },
      "execution_count": 135,
      "outputs": []
    },
    {
      "cell_type": "code",
      "source": [
        "## training score\n",
        "print(model.score(train_inputs,train_targets),\n",
        "## validation score\n",
        "model.score(val_inputs,val_targets))"
      ],
      "metadata": {
        "colab": {
          "base_uri": "https://localhost:8080/"
        },
        "id": "vOeOJhfuhfn9",
        "outputId": "9376544b-e075-4bd9-cd27-f279441b68cc"
      },
      "execution_count": 138,
      "outputs": [
        {
          "output_type": "stream",
          "name": "stdout",
          "text": [
            "0.9974336262598393 0.9831853547172011\n"
          ]
        }
      ]
    },
    {
      "cell_type": "markdown",
      "source": [
        "## Using teh Grid search Cv to find teh best hyper parameter"
      ],
      "metadata": {
        "id": "SuLxZyqHjGoD"
      }
    },
    {
      "cell_type": "code",
      "source": [
        "## Let us use the gridsearch cv for hyper parametr tninng \n",
        "from sklearn.model_selection import GridSearchCV"
      ],
      "metadata": {
        "id": "p9B55hI_h6id"
      },
      "execution_count": 139,
      "outputs": []
    },
    {
      "cell_type": "code",
      "source": [
        "parameter={'n_estimators':[5,10,15,50,100],'max_depth':[2,5,8,10]}"
      ],
      "metadata": {
        "id": "AphYS1OxiUrk"
      },
      "execution_count": 140,
      "outputs": []
    },
    {
      "cell_type": "code",
      "source": [
        "grid_search=GridSearchCV(model,parameter,cv=10)"
      ],
      "metadata": {
        "id": "MtqsjD4jiGId"
      },
      "execution_count": 141,
      "outputs": []
    },
    {
      "cell_type": "code",
      "source": [
        "print(train_targets.shape,train_inputs.shape)"
      ],
      "metadata": {
        "colab": {
          "base_uri": "https://localhost:8080/"
        },
        "id": "L8NAZ8GciFuu",
        "outputId": "d5897e68-69b7-47b3-b4cd-9ec0ff70d4b0"
      },
      "execution_count": 145,
      "outputs": [
        {
          "output_type": "stream",
          "name": "stdout",
          "text": [
            "(92252, 1) (92252, 7)\n"
          ]
        }
      ]
    },
    {
      "cell_type": "code",
      "source": [
        "test_df"
      ],
      "metadata": {
        "colab": {
          "base_uri": "https://localhost:8080/",
          "height": 870
        },
        "id": "2aMZpZsshKlB",
        "outputId": "dc839a89-9e19-43ac-82dd-4a85dad7cec6"
      },
      "execution_count": 146,
      "outputs": [
        {
          "output_type": "execute_result",
          "data": {
            "text/html": [
              "\n",
              "  <div id=\"df-588644f1-5673-4224-9d45-576d54544a65\">\n",
              "    <div class=\"colab-df-container\">\n",
              "      <div>\n",
              "<style scoped>\n",
              "    .dataframe tbody tr th:only-of-type {\n",
              "        vertical-align: middle;\n",
              "    }\n",
              "\n",
              "    .dataframe tbody tr th {\n",
              "        vertical-align: top;\n",
              "    }\n",
              "\n",
              "    .dataframe thead th {\n",
              "        text-align: right;\n",
              "    }\n",
              "</style>\n",
              "<table border=\"1\" class=\"dataframe\">\n",
              "  <thead>\n",
              "    <tr style=\"text-align: right;\">\n",
              "      <th></th>\n",
              "      <th>domain</th>\n",
              "      <th>id</th>\n",
              "      <th>title</th>\n",
              "      <th>author</th>\n",
              "      <th>ups</th>\n",
              "      <th>downs</th>\n",
              "      <th>num_comments</th>\n",
              "      <th>permalink</th>\n",
              "      <th>over_18</th>\n",
              "      <th>subreddit_id</th>\n",
              "      <th>edited</th>\n",
              "      <th>is_self</th>\n",
              "      <th>name</th>\n",
              "      <th>url</th>\n",
              "      <th>created_date</th>\n",
              "    </tr>\n",
              "  </thead>\n",
              "  <tbody>\n",
              "    <tr>\n",
              "      <th>0</th>\n",
              "      <td>i.imgur.com</td>\n",
              "      <td>16zj9b</td>\n",
              "      <td>Notch in 0x10c</td>\n",
              "      <td>BubblegumBalloon</td>\n",
              "      <td>289.0</td>\n",
              "      <td>28.0</td>\n",
              "      <td>40.0</td>\n",
              "      <td>http://www.reddit.com/r/0x10c/comments/16zj9b/...</td>\n",
              "      <td>False</td>\n",
              "      <td>t5_2tu92</td>\n",
              "      <td>False</td>\n",
              "      <td>False</td>\n",
              "      <td>t3_16zj9b</td>\n",
              "      <td>http://i.imgur.com/7gp4m2a.png</td>\n",
              "      <td>2013-01-21 13:15:32</td>\n",
              "    </tr>\n",
              "    <tr>\n",
              "      <th>1</th>\n",
              "      <td>i.imgur.com</td>\n",
              "      <td>16bb5r</td>\n",
              "      <td>eldrone tweets some astronaut's faces for 0x10c</td>\n",
              "      <td>r4d2</td>\n",
              "      <td>NaN</td>\n",
              "      <td>23.0</td>\n",
              "      <td>43.0</td>\n",
              "      <td>http://www.reddit.com/r/0x10c/comments/16bb5r/...</td>\n",
              "      <td>False</td>\n",
              "      <td>t5_2tu92</td>\n",
              "      <td>False</td>\n",
              "      <td>False</td>\n",
              "      <td>t3_16bb5r</td>\n",
              "      <td>http://i.imgur.com/3zOGU.png</td>\n",
              "      <td>2013-01-10 14:12:43</td>\n",
              "    </tr>\n",
              "    <tr>\n",
              "      <th>2</th>\n",
              "      <td>i.imgur.com</td>\n",
              "      <td>16bcyc</td>\n",
              "      <td>eldrone posted this about face editor</td>\n",
              "      <td>fancreeper2</td>\n",
              "      <td>197.0</td>\n",
              "      <td>10.0</td>\n",
              "      <td>26.0</td>\n",
              "      <td>http://www.reddit.com/r/0x10c/comments/16bcyc/...</td>\n",
              "      <td>False</td>\n",
              "      <td>t5_2tu92</td>\n",
              "      <td>False</td>\n",
              "      <td>False</td>\n",
              "      <td>t3_16bcyc</td>\n",
              "      <td>http://i.imgur.com/jdK8z.png</td>\n",
              "      <td>2013-01-10 14:50:07</td>\n",
              "    </tr>\n",
              "    <tr>\n",
              "      <th>3</th>\n",
              "      <td>i.imgur.com</td>\n",
              "      <td>16zq52</td>\n",
              "      <td>Sup, ladies.</td>\n",
              "      <td>tomutwit</td>\n",
              "      <td>184.0</td>\n",
              "      <td>NaN</td>\n",
              "      <td>6.0</td>\n",
              "      <td>http://www.reddit.com/r/0x10c/comments/16zq52/...</td>\n",
              "      <td>False</td>\n",
              "      <td>t5_2tu92</td>\n",
              "      <td>False</td>\n",
              "      <td>False</td>\n",
              "      <td>t3_16zq52</td>\n",
              "      <td>http://i.imgur.com/fQ6p1Fz.gif</td>\n",
              "      <td>2013-01-21 15:43:43</td>\n",
              "    </tr>\n",
              "    <tr>\n",
              "      <th>4</th>\n",
              "      <td>twitter.com</td>\n",
              "      <td>16449c</td>\n",
              "      <td>Notch tweets of regained 0x10c inspiration</td>\n",
              "      <td>edwardsch</td>\n",
              "      <td>NaN</td>\n",
              "      <td>14.0</td>\n",
              "      <td>45.0</td>\n",
              "      <td>http://www.reddit.com/r/0x10c/comments/16449c/...</td>\n",
              "      <td>False</td>\n",
              "      <td>t5_2tu92</td>\n",
              "      <td>False</td>\n",
              "      <td>False</td>\n",
              "      <td>t3_16449c</td>\n",
              "      <td>http://twitter.com/notch/statuses/288218096756...</td>\n",
              "      <td>2013-01-07 10:23:59</td>\n",
              "    </tr>\n",
              "    <tr>\n",
              "      <th>...</th>\n",
              "      <td>...</td>\n",
              "      <td>...</td>\n",
              "      <td>...</td>\n",
              "      <td>...</td>\n",
              "      <td>...</td>\n",
              "      <td>...</td>\n",
              "      <td>...</td>\n",
              "      <td>...</td>\n",
              "      <td>...</td>\n",
              "      <td>...</td>\n",
              "      <td>...</td>\n",
              "      <td>...</td>\n",
              "      <td>...</td>\n",
              "      <td>...</td>\n",
              "      <td>...</td>\n",
              "    </tr>\n",
              "    <tr>\n",
              "      <th>155897</th>\n",
              "      <td>i.imgur.com</td>\n",
              "      <td>1d8pha</td>\n",
              "      <td>Hang Out</td>\n",
              "      <td>robvargas</td>\n",
              "      <td>NaN</td>\n",
              "      <td>NaN</td>\n",
              "      <td>5.0</td>\n",
              "      <td>http://www.reddit.com/r/EmmaWatson/comments/1d...</td>\n",
              "      <td>False</td>\n",
              "      <td>t5_2rd1x</td>\n",
              "      <td>False</td>\n",
              "      <td>False</td>\n",
              "      <td>t3_1d8pha</td>\n",
              "      <td>http://i.imgur.com/nrXaf2x.jpg</td>\n",
              "      <td>2013-04-27 23:03:46</td>\n",
              "    </tr>\n",
              "    <tr>\n",
              "      <th>155898</th>\n",
              "      <td>i.imgur.com</td>\n",
              "      <td>194zgs</td>\n",
              "      <td>Emma for Elle France - 2012 (AIC)</td>\n",
              "      <td>NaN</td>\n",
              "      <td>360.0</td>\n",
              "      <td>61.0</td>\n",
              "      <td>6.0</td>\n",
              "      <td>http://www.reddit.com/r/EmmaWatson/comments/19...</td>\n",
              "      <td>False</td>\n",
              "      <td>t5_2rd1x</td>\n",
              "      <td>False</td>\n",
              "      <td>False</td>\n",
              "      <td>t3_194zgs</td>\n",
              "      <td>http://i.imgur.com/OpZ0Dfk.jpg</td>\n",
              "      <td>2013-02-24 17:03:43</td>\n",
              "    </tr>\n",
              "    <tr>\n",
              "      <th>155899</th>\n",
              "      <td>i.imgur.com</td>\n",
              "      <td>18fpey</td>\n",
              "      <td>Studying</td>\n",
              "      <td>gmw2222</td>\n",
              "      <td>338.0</td>\n",
              "      <td>44.0</td>\n",
              "      <td>7.0</td>\n",
              "      <td>http://www.reddit.com/r/EmmaWatson/comments/18...</td>\n",
              "      <td>False</td>\n",
              "      <td>t5_2rd1x</td>\n",
              "      <td>False</td>\n",
              "      <td>False</td>\n",
              "      <td>t3_18fpey</td>\n",
              "      <td>http://i.imgur.com/CXqAWrq.jpg?1</td>\n",
              "      <td>2013-02-13 08:33:58</td>\n",
              "    </tr>\n",
              "    <tr>\n",
              "      <th>155900</th>\n",
              "      <td>i.imgur.com</td>\n",
              "      <td>1hzxhy</td>\n",
              "      <td>Late Show-stopper</td>\n",
              "      <td>Chop_Artista</td>\n",
              "      <td>341.0</td>\n",
              "      <td>48.0</td>\n",
              "      <td>NaN</td>\n",
              "      <td>http://www.reddit.com/r/EmmaWatson/comments/1h...</td>\n",
              "      <td>False</td>\n",
              "      <td>t5_2rd1x</td>\n",
              "      <td>False</td>\n",
              "      <td>False</td>\n",
              "      <td>t3_1hzxhy</td>\n",
              "      <td>http://i.imgur.com/LuxfnCc.jpg</td>\n",
              "      <td>2013-07-10 09:19:59</td>\n",
              "    </tr>\n",
              "    <tr>\n",
              "      <th>155901</th>\n",
              "      <td>i.imgur.com</td>\n",
              "      <td>1973gp</td>\n",
              "      <td>Angelic in B&amp;amp;W</td>\n",
              "      <td>kirbyfood</td>\n",
              "      <td>NaN</td>\n",
              "      <td>79.0</td>\n",
              "      <td>4.0</td>\n",
              "      <td>http://www.reddit.com/r/EmmaWatson/comments/19...</td>\n",
              "      <td>False</td>\n",
              "      <td>t5_2rd1x</td>\n",
              "      <td>False</td>\n",
              "      <td>False</td>\n",
              "      <td>t3_1973gp</td>\n",
              "      <td>http:</td>\n",
              "      <td>NaN</td>\n",
              "    </tr>\n",
              "  </tbody>\n",
              "</table>\n",
              "<p>155902 rows × 15 columns</p>\n",
              "</div>\n",
              "      <button class=\"colab-df-convert\" onclick=\"convertToInteractive('df-588644f1-5673-4224-9d45-576d54544a65')\"\n",
              "              title=\"Convert this dataframe to an interactive table.\"\n",
              "              style=\"display:none;\">\n",
              "        \n",
              "  <svg xmlns=\"http://www.w3.org/2000/svg\" height=\"24px\"viewBox=\"0 0 24 24\"\n",
              "       width=\"24px\">\n",
              "    <path d=\"M0 0h24v24H0V0z\" fill=\"none\"/>\n",
              "    <path d=\"M18.56 5.44l.94 2.06.94-2.06 2.06-.94-2.06-.94-.94-2.06-.94 2.06-2.06.94zm-11 1L8.5 8.5l.94-2.06 2.06-.94-2.06-.94L8.5 2.5l-.94 2.06-2.06.94zm10 10l.94 2.06.94-2.06 2.06-.94-2.06-.94-.94-2.06-.94 2.06-2.06.94z\"/><path d=\"M17.41 7.96l-1.37-1.37c-.4-.4-.92-.59-1.43-.59-.52 0-1.04.2-1.43.59L10.3 9.45l-7.72 7.72c-.78.78-.78 2.05 0 2.83L4 21.41c.39.39.9.59 1.41.59.51 0 1.02-.2 1.41-.59l7.78-7.78 2.81-2.81c.8-.78.8-2.07 0-2.86zM5.41 20L4 18.59l7.72-7.72 1.47 1.35L5.41 20z\"/>\n",
              "  </svg>\n",
              "      </button>\n",
              "      \n",
              "  <style>\n",
              "    .colab-df-container {\n",
              "      display:flex;\n",
              "      flex-wrap:wrap;\n",
              "      gap: 12px;\n",
              "    }\n",
              "\n",
              "    .colab-df-convert {\n",
              "      background-color: #E8F0FE;\n",
              "      border: none;\n",
              "      border-radius: 50%;\n",
              "      cursor: pointer;\n",
              "      display: none;\n",
              "      fill: #1967D2;\n",
              "      height: 32px;\n",
              "      padding: 0 0 0 0;\n",
              "      width: 32px;\n",
              "    }\n",
              "\n",
              "    .colab-df-convert:hover {\n",
              "      background-color: #E2EBFA;\n",
              "      box-shadow: 0px 1px 2px rgba(60, 64, 67, 0.3), 0px 1px 3px 1px rgba(60, 64, 67, 0.15);\n",
              "      fill: #174EA6;\n",
              "    }\n",
              "\n",
              "    [theme=dark] .colab-df-convert {\n",
              "      background-color: #3B4455;\n",
              "      fill: #D2E3FC;\n",
              "    }\n",
              "\n",
              "    [theme=dark] .colab-df-convert:hover {\n",
              "      background-color: #434B5C;\n",
              "      box-shadow: 0px 1px 3px 1px rgba(0, 0, 0, 0.15);\n",
              "      filter: drop-shadow(0px 1px 2px rgba(0, 0, 0, 0.3));\n",
              "      fill: #FFFFFF;\n",
              "    }\n",
              "  </style>\n",
              "\n",
              "      <script>\n",
              "        const buttonEl =\n",
              "          document.querySelector('#df-588644f1-5673-4224-9d45-576d54544a65 button.colab-df-convert');\n",
              "        buttonEl.style.display =\n",
              "          google.colab.kernel.accessAllowed ? 'block' : 'none';\n",
              "\n",
              "        async function convertToInteractive(key) {\n",
              "          const element = document.querySelector('#df-588644f1-5673-4224-9d45-576d54544a65');\n",
              "          const dataTable =\n",
              "            await google.colab.kernel.invokeFunction('convertToInteractive',\n",
              "                                                     [key], {});\n",
              "          if (!dataTable) return;\n",
              "\n",
              "          const docLinkHtml = 'Like what you see? Visit the ' +\n",
              "            '<a target=\"_blank\" href=https://colab.research.google.com/notebooks/data_table.ipynb>data table notebook</a>'\n",
              "            + ' to learn more about interactive tables.';\n",
              "          element.innerHTML = '';\n",
              "          dataTable['output_type'] = 'display_data';\n",
              "          await google.colab.output.renderOutput(dataTable, element);\n",
              "          const docLink = document.createElement('div');\n",
              "          docLink.innerHTML = docLinkHtml;\n",
              "          element.appendChild(docLink);\n",
              "        }\n",
              "      </script>\n",
              "    </div>\n",
              "  </div>\n",
              "  "
            ],
            "text/plain": [
              "             domain  ...         created_date\n",
              "0       i.imgur.com  ...  2013-01-21 13:15:32\n",
              "1       i.imgur.com  ...  2013-01-10 14:12:43\n",
              "2       i.imgur.com  ...  2013-01-10 14:50:07\n",
              "3       i.imgur.com  ...  2013-01-21 15:43:43\n",
              "4       twitter.com  ...  2013-01-07 10:23:59\n",
              "...             ...  ...                  ...\n",
              "155897  i.imgur.com  ...  2013-04-27 23:03:46\n",
              "155898  i.imgur.com  ...  2013-02-24 17:03:43\n",
              "155899  i.imgur.com  ...  2013-02-13 08:33:58\n",
              "155900  i.imgur.com  ...  2013-07-10 09:19:59\n",
              "155901  i.imgur.com  ...                  NaN\n",
              "\n",
              "[155902 rows x 15 columns]"
            ]
          },
          "metadata": {},
          "execution_count": 146
        }
      ]
    },
    {
      "cell_type": "code",
      "source": [
        "test_df.columns"
      ],
      "metadata": {
        "colab": {
          "base_uri": "https://localhost:8080/"
        },
        "id": "CAU32lLqkdRb",
        "outputId": "36c0b693-5052-4692-beb4-feb4aa2eb3e1"
      },
      "execution_count": 148,
      "outputs": [
        {
          "output_type": "execute_result",
          "data": {
            "text/plain": [
              "Index(['domain', 'id', 'title', 'author', 'ups', 'downs', 'num_comments',\n",
              "       'permalink', 'over_18', 'subreddit_id', 'edited', 'is_self', 'name',\n",
              "       'url', 'created_date'],\n",
              "      dtype='object')"
            ]
          },
          "metadata": {},
          "execution_count": 148
        }
      ]
    },
    {
      "cell_type": "code",
      "source": [
        "train_inputs"
      ],
      "metadata": {
        "colab": {
          "base_uri": "https://localhost:8080/",
          "height": 424
        },
        "id": "IFTMITL4kjiM",
        "outputId": "765e681d-ef24-49a5-f23d-5e20e8896dd1"
      },
      "execution_count": 149,
      "outputs": [
        {
          "output_type": "execute_result",
          "data": {
            "text/html": [
              "\n",
              "  <div id=\"df-06943cb1-cf67-4c2c-8ad3-53d9b85c1e8f\">\n",
              "    <div class=\"colab-df-container\">\n",
              "      <div>\n",
              "<style scoped>\n",
              "    .dataframe tbody tr th:only-of-type {\n",
              "        vertical-align: middle;\n",
              "    }\n",
              "\n",
              "    .dataframe tbody tr th {\n",
              "        vertical-align: top;\n",
              "    }\n",
              "\n",
              "    .dataframe thead th {\n",
              "        text-align: right;\n",
              "    }\n",
              "</style>\n",
              "<table border=\"1\" class=\"dataframe\">\n",
              "  <thead>\n",
              "    <tr style=\"text-align: right;\">\n",
              "      <th></th>\n",
              "      <th>ups</th>\n",
              "      <th>downs</th>\n",
              "      <th>num_comments</th>\n",
              "      <th>over_18</th>\n",
              "      <th>is_self</th>\n",
              "      <th>year</th>\n",
              "      <th>month</th>\n",
              "    </tr>\n",
              "  </thead>\n",
              "  <tbody>\n",
              "    <tr>\n",
              "      <th>141834</th>\n",
              "      <td>0.000192</td>\n",
              "      <td>0.000094</td>\n",
              "      <td>0.000008</td>\n",
              "      <td>0.0</td>\n",
              "      <td>0.0</td>\n",
              "      <td>0.8</td>\n",
              "      <td>0.181818</td>\n",
              "    </tr>\n",
              "    <tr>\n",
              "      <th>27282</th>\n",
              "      <td>0.000577</td>\n",
              "      <td>0.000174</td>\n",
              "      <td>0.000059</td>\n",
              "      <td>0.0</td>\n",
              "      <td>1.0</td>\n",
              "      <td>1.0</td>\n",
              "      <td>0.636364</td>\n",
              "    </tr>\n",
              "    <tr>\n",
              "      <th>116656</th>\n",
              "      <td>0.000472</td>\n",
              "      <td>0.000067</td>\n",
              "      <td>0.000078</td>\n",
              "      <td>0.0</td>\n",
              "      <td>0.0</td>\n",
              "      <td>1.0</td>\n",
              "      <td>0.818182</td>\n",
              "    </tr>\n",
              "    <tr>\n",
              "      <th>63942</th>\n",
              "      <td>0.001198</td>\n",
              "      <td>0.000575</td>\n",
              "      <td>0.000184</td>\n",
              "      <td>0.0</td>\n",
              "      <td>0.0</td>\n",
              "      <td>1.0</td>\n",
              "      <td>1.000000</td>\n",
              "    </tr>\n",
              "    <tr>\n",
              "      <th>120124</th>\n",
              "      <td>0.000297</td>\n",
              "      <td>0.000054</td>\n",
              "      <td>0.000017</td>\n",
              "      <td>0.0</td>\n",
              "      <td>0.0</td>\n",
              "      <td>1.0</td>\n",
              "      <td>0.181818</td>\n",
              "    </tr>\n",
              "    <tr>\n",
              "      <th>...</th>\n",
              "      <td>...</td>\n",
              "      <td>...</td>\n",
              "      <td>...</td>\n",
              "      <td>...</td>\n",
              "      <td>...</td>\n",
              "      <td>...</td>\n",
              "      <td>...</td>\n",
              "    </tr>\n",
              "    <tr>\n",
              "      <th>32001</th>\n",
              "      <td>0.000070</td>\n",
              "      <td>0.000054</td>\n",
              "      <td>0.000006</td>\n",
              "      <td>0.0</td>\n",
              "      <td>0.0</td>\n",
              "      <td>1.0</td>\n",
              "      <td>0.818182</td>\n",
              "    </tr>\n",
              "    <tr>\n",
              "      <th>69005</th>\n",
              "      <td>0.000534</td>\n",
              "      <td>0.000201</td>\n",
              "      <td>0.000006</td>\n",
              "      <td>0.0</td>\n",
              "      <td>0.0</td>\n",
              "      <td>1.0</td>\n",
              "      <td>0.727273</td>\n",
              "    </tr>\n",
              "    <tr>\n",
              "      <th>64240</th>\n",
              "      <td>0.000061</td>\n",
              "      <td>0.000067</td>\n",
              "      <td>0.000017</td>\n",
              "      <td>0.0</td>\n",
              "      <td>0.0</td>\n",
              "      <td>1.0</td>\n",
              "      <td>0.363636</td>\n",
              "    </tr>\n",
              "    <tr>\n",
              "      <th>65660</th>\n",
              "      <td>0.003569</td>\n",
              "      <td>0.001057</td>\n",
              "      <td>0.000162</td>\n",
              "      <td>0.0</td>\n",
              "      <td>0.0</td>\n",
              "      <td>1.0</td>\n",
              "      <td>0.909091</td>\n",
              "    </tr>\n",
              "    <tr>\n",
              "      <th>102666</th>\n",
              "      <td>0.000061</td>\n",
              "      <td>0.000080</td>\n",
              "      <td>0.000006</td>\n",
              "      <td>0.0</td>\n",
              "      <td>0.0</td>\n",
              "      <td>0.6</td>\n",
              "      <td>0.727273</td>\n",
              "    </tr>\n",
              "  </tbody>\n",
              "</table>\n",
              "<p>92252 rows × 7 columns</p>\n",
              "</div>\n",
              "      <button class=\"colab-df-convert\" onclick=\"convertToInteractive('df-06943cb1-cf67-4c2c-8ad3-53d9b85c1e8f')\"\n",
              "              title=\"Convert this dataframe to an interactive table.\"\n",
              "              style=\"display:none;\">\n",
              "        \n",
              "  <svg xmlns=\"http://www.w3.org/2000/svg\" height=\"24px\"viewBox=\"0 0 24 24\"\n",
              "       width=\"24px\">\n",
              "    <path d=\"M0 0h24v24H0V0z\" fill=\"none\"/>\n",
              "    <path d=\"M18.56 5.44l.94 2.06.94-2.06 2.06-.94-2.06-.94-.94-2.06-.94 2.06-2.06.94zm-11 1L8.5 8.5l.94-2.06 2.06-.94-2.06-.94L8.5 2.5l-.94 2.06-2.06.94zm10 10l.94 2.06.94-2.06 2.06-.94-2.06-.94-.94-2.06-.94 2.06-2.06.94z\"/><path d=\"M17.41 7.96l-1.37-1.37c-.4-.4-.92-.59-1.43-.59-.52 0-1.04.2-1.43.59L10.3 9.45l-7.72 7.72c-.78.78-.78 2.05 0 2.83L4 21.41c.39.39.9.59 1.41.59.51 0 1.02-.2 1.41-.59l7.78-7.78 2.81-2.81c.8-.78.8-2.07 0-2.86zM5.41 20L4 18.59l7.72-7.72 1.47 1.35L5.41 20z\"/>\n",
              "  </svg>\n",
              "      </button>\n",
              "      \n",
              "  <style>\n",
              "    .colab-df-container {\n",
              "      display:flex;\n",
              "      flex-wrap:wrap;\n",
              "      gap: 12px;\n",
              "    }\n",
              "\n",
              "    .colab-df-convert {\n",
              "      background-color: #E8F0FE;\n",
              "      border: none;\n",
              "      border-radius: 50%;\n",
              "      cursor: pointer;\n",
              "      display: none;\n",
              "      fill: #1967D2;\n",
              "      height: 32px;\n",
              "      padding: 0 0 0 0;\n",
              "      width: 32px;\n",
              "    }\n",
              "\n",
              "    .colab-df-convert:hover {\n",
              "      background-color: #E2EBFA;\n",
              "      box-shadow: 0px 1px 2px rgba(60, 64, 67, 0.3), 0px 1px 3px 1px rgba(60, 64, 67, 0.15);\n",
              "      fill: #174EA6;\n",
              "    }\n",
              "\n",
              "    [theme=dark] .colab-df-convert {\n",
              "      background-color: #3B4455;\n",
              "      fill: #D2E3FC;\n",
              "    }\n",
              "\n",
              "    [theme=dark] .colab-df-convert:hover {\n",
              "      background-color: #434B5C;\n",
              "      box-shadow: 0px 1px 3px 1px rgba(0, 0, 0, 0.15);\n",
              "      filter: drop-shadow(0px 1px 2px rgba(0, 0, 0, 0.3));\n",
              "      fill: #FFFFFF;\n",
              "    }\n",
              "  </style>\n",
              "\n",
              "      <script>\n",
              "        const buttonEl =\n",
              "          document.querySelector('#df-06943cb1-cf67-4c2c-8ad3-53d9b85c1e8f button.colab-df-convert');\n",
              "        buttonEl.style.display =\n",
              "          google.colab.kernel.accessAllowed ? 'block' : 'none';\n",
              "\n",
              "        async function convertToInteractive(key) {\n",
              "          const element = document.querySelector('#df-06943cb1-cf67-4c2c-8ad3-53d9b85c1e8f');\n",
              "          const dataTable =\n",
              "            await google.colab.kernel.invokeFunction('convertToInteractive',\n",
              "                                                     [key], {});\n",
              "          if (!dataTable) return;\n",
              "\n",
              "          const docLinkHtml = 'Like what you see? Visit the ' +\n",
              "            '<a target=\"_blank\" href=https://colab.research.google.com/notebooks/data_table.ipynb>data table notebook</a>'\n",
              "            + ' to learn more about interactive tables.';\n",
              "          element.innerHTML = '';\n",
              "          dataTable['output_type'] = 'display_data';\n",
              "          await google.colab.output.renderOutput(dataTable, element);\n",
              "          const docLink = document.createElement('div');\n",
              "          docLink.innerHTML = docLinkHtml;\n",
              "          element.appendChild(docLink);\n",
              "        }\n",
              "      </script>\n",
              "    </div>\n",
              "  </div>\n",
              "  "
            ],
            "text/plain": [
              "             ups     downs  num_comments  over_18  is_self  year     month\n",
              "141834  0.000192  0.000094      0.000008      0.0      0.0   0.8  0.181818\n",
              "27282   0.000577  0.000174      0.000059      0.0      1.0   1.0  0.636364\n",
              "116656  0.000472  0.000067      0.000078      0.0      0.0   1.0  0.818182\n",
              "63942   0.001198  0.000575      0.000184      0.0      0.0   1.0  1.000000\n",
              "120124  0.000297  0.000054      0.000017      0.0      0.0   1.0  0.181818\n",
              "...          ...       ...           ...      ...      ...   ...       ...\n",
              "32001   0.000070  0.000054      0.000006      0.0      0.0   1.0  0.818182\n",
              "69005   0.000534  0.000201      0.000006      0.0      0.0   1.0  0.727273\n",
              "64240   0.000061  0.000067      0.000017      0.0      0.0   1.0  0.363636\n",
              "65660   0.003569  0.001057      0.000162      0.0      0.0   1.0  0.909091\n",
              "102666  0.000061  0.000080      0.000006      0.0      0.0   0.6  0.727273\n",
              "\n",
              "[92252 rows x 7 columns]"
            ]
          },
          "metadata": {},
          "execution_count": 149
        }
      ]
    },
    {
      "cell_type": "code",
      "source": [
        "test_df=pd.read_csv('/content/test.csv')"
      ],
      "metadata": {
        "id": "hjypfnzzmMi2"
      },
      "execution_count": 157,
      "outputs": []
    },
    {
      "cell_type": "code",
      "source": [
        ""
      ],
      "metadata": {
        "colab": {
          "base_uri": "https://localhost:8080/",
          "height": 426
        },
        "id": "qm-wirACnGu7",
        "outputId": "f05ceee8-aba3-4b22-fe5b-3313d29efe1b"
      },
      "execution_count": 161,
      "outputs": [
        {
          "output_type": "execute_result",
          "data": {
            "text/html": [
              "\n",
              "  <div id=\"df-aa9a253f-f951-4484-89ef-1b98a239ec9e\">\n",
              "    <div class=\"colab-df-container\">\n",
              "      <div>\n",
              "<style scoped>\n",
              "    .dataframe tbody tr th:only-of-type {\n",
              "        vertical-align: middle;\n",
              "    }\n",
              "\n",
              "    .dataframe tbody tr th {\n",
              "        vertical-align: top;\n",
              "    }\n",
              "\n",
              "    .dataframe thead th {\n",
              "        text-align: right;\n",
              "    }\n",
              "</style>\n",
              "<table border=\"1\" class=\"dataframe\">\n",
              "  <thead>\n",
              "    <tr style=\"text-align: right;\">\n",
              "      <th></th>\n",
              "      <th>domain</th>\n",
              "      <th>id</th>\n",
              "      <th>title</th>\n",
              "      <th>author</th>\n",
              "      <th>ups</th>\n",
              "      <th>downs</th>\n",
              "      <th>num_comments</th>\n",
              "      <th>permalink</th>\n",
              "      <th>over_18</th>\n",
              "      <th>subreddit_id</th>\n",
              "      <th>edited</th>\n",
              "      <th>is_self</th>\n",
              "      <th>name</th>\n",
              "      <th>url</th>\n",
              "      <th>created_date</th>\n",
              "    </tr>\n",
              "  </thead>\n",
              "  <tbody>\n",
              "    <tr>\n",
              "      <th>530809</th>\n",
              "      <td>i.imgur.com</td>\n",
              "      <td>1d1sdb</td>\n",
              "      <td>Blue sweater</td>\n",
              "      <td>jared091787</td>\n",
              "      <td>1.0</td>\n",
              "      <td>1.0</td>\n",
              "      <td>0.0</td>\n",
              "      <td>http://www.reddit.com/r/zooeydeschanel/comment...</td>\n",
              "      <td>False</td>\n",
              "      <td>t5_2rlrw</td>\n",
              "      <td>False</td>\n",
              "      <td>False</td>\n",
              "      <td>t3_1d1sdb</td>\n",
              "      <td>http://i.imgur.com/XhQmGI9.jpg</td>\n",
              "      <td>2013-04-25 00:40:28</td>\n",
              "    </tr>\n",
              "    <tr>\n",
              "      <th>530810</th>\n",
              "      <td>static.lfgss.com</td>\n",
              "      <td>1c04lc</td>\n",
              "      <td>Zooey posing by a bike (did she match her shoe...</td>\n",
              "      <td>franch</td>\n",
              "      <td>1.0</td>\n",
              "      <td>2.0</td>\n",
              "      <td>0.0</td>\n",
              "      <td>http://www.reddit.com/r/zooeydeschanel/comment...</td>\n",
              "      <td>False</td>\n",
              "      <td>t5_2rlrw</td>\n",
              "      <td>False</td>\n",
              "      <td>False</td>\n",
              "      <td>t3_1c04lc</td>\n",
              "      <td>http://static.lfgss.com/attachments/12584d1248...</td>\n",
              "      <td>2013-04-09 17:59:00</td>\n",
              "    </tr>\n",
              "    <tr>\n",
              "      <th>530811</th>\n",
              "      <td>twitter.com</td>\n",
              "      <td>1ekwwt</td>\n",
              "      <td>Twitter / peterogburn: .@ZooeyDeschanel So, yo...</td>\n",
              "      <td>antdude</td>\n",
              "      <td>2.0</td>\n",
              "      <td>4.0</td>\n",
              "      <td>1.0</td>\n",
              "      <td>http://www.reddit.com/r/zooeydeschanel/comment...</td>\n",
              "      <td>False</td>\n",
              "      <td>t5_2rlrw</td>\n",
              "      <td>False</td>\n",
              "      <td>False</td>\n",
              "      <td>t3_1ekwwt</td>\n",
              "      <td>https://twitter.com/peterogburn/status/3254179...</td>\n",
              "      <td>2013-05-18 15:52:50</td>\n",
              "    </tr>\n",
              "    <tr>\n",
              "      <th>530812</th>\n",
              "      <td>imgur.com</td>\n",
              "      <td>166f62</td>\n",
              "      <td>Is this real ?</td>\n",
              "      <td>paranoidray</td>\n",
              "      <td>4.0</td>\n",
              "      <td>6.0</td>\n",
              "      <td>1.0</td>\n",
              "      <td>http://www.reddit.com/r/zooeydeschanel/comment...</td>\n",
              "      <td>False</td>\n",
              "      <td>t5_2rlrw</td>\n",
              "      <td>False</td>\n",
              "      <td>False</td>\n",
              "      <td>t3_166f62</td>\n",
              "      <td>http://imgur.com/NGpfE</td>\n",
              "      <td>2013-01-08 11:00:19</td>\n",
              "    </tr>\n",
              "    <tr>\n",
              "      <th>530813</th>\n",
              "      <td>i.imgur.com</td>\n",
              "      <td>18k4ma</td>\n",
              "      <td>Zooey Deschanel Valentine's Day Card</td>\n",
              "      <td>Evil_Steven</td>\n",
              "      <td>6.0</td>\n",
              "      <td>8.0</td>\n",
              "      <td>NaN</td>\n",
              "      <td>http://www.reddit.com/r/zooeydeschanel/comment...</td>\n",
              "      <td>False</td>\n",
              "      <td>t5_2rlrw</td>\n",
              "      <td>False</td>\n",
              "      <td>False</td>\n",
              "      <td>t3_18k4ma</td>\n",
              "      <td>http://i.imgur.com/SEEmbso.jpg</td>\n",
              "      <td>2013-02-15 02:55:43</td>\n",
              "    </tr>\n",
              "  </tbody>\n",
              "</table>\n",
              "</div>\n",
              "      <button class=\"colab-df-convert\" onclick=\"convertToInteractive('df-aa9a253f-f951-4484-89ef-1b98a239ec9e')\"\n",
              "              title=\"Convert this dataframe to an interactive table.\"\n",
              "              style=\"display:none;\">\n",
              "        \n",
              "  <svg xmlns=\"http://www.w3.org/2000/svg\" height=\"24px\"viewBox=\"0 0 24 24\"\n",
              "       width=\"24px\">\n",
              "    <path d=\"M0 0h24v24H0V0z\" fill=\"none\"/>\n",
              "    <path d=\"M18.56 5.44l.94 2.06.94-2.06 2.06-.94-2.06-.94-.94-2.06-.94 2.06-2.06.94zm-11 1L8.5 8.5l.94-2.06 2.06-.94-2.06-.94L8.5 2.5l-.94 2.06-2.06.94zm10 10l.94 2.06.94-2.06 2.06-.94-2.06-.94-.94-2.06-.94 2.06-2.06.94z\"/><path d=\"M17.41 7.96l-1.37-1.37c-.4-.4-.92-.59-1.43-.59-.52 0-1.04.2-1.43.59L10.3 9.45l-7.72 7.72c-.78.78-.78 2.05 0 2.83L4 21.41c.39.39.9.59 1.41.59.51 0 1.02-.2 1.41-.59l7.78-7.78 2.81-2.81c.8-.78.8-2.07 0-2.86zM5.41 20L4 18.59l7.72-7.72 1.47 1.35L5.41 20z\"/>\n",
              "  </svg>\n",
              "      </button>\n",
              "      \n",
              "  <style>\n",
              "    .colab-df-container {\n",
              "      display:flex;\n",
              "      flex-wrap:wrap;\n",
              "      gap: 12px;\n",
              "    }\n",
              "\n",
              "    .colab-df-convert {\n",
              "      background-color: #E8F0FE;\n",
              "      border: none;\n",
              "      border-radius: 50%;\n",
              "      cursor: pointer;\n",
              "      display: none;\n",
              "      fill: #1967D2;\n",
              "      height: 32px;\n",
              "      padding: 0 0 0 0;\n",
              "      width: 32px;\n",
              "    }\n",
              "\n",
              "    .colab-df-convert:hover {\n",
              "      background-color: #E2EBFA;\n",
              "      box-shadow: 0px 1px 2px rgba(60, 64, 67, 0.3), 0px 1px 3px 1px rgba(60, 64, 67, 0.15);\n",
              "      fill: #174EA6;\n",
              "    }\n",
              "\n",
              "    [theme=dark] .colab-df-convert {\n",
              "      background-color: #3B4455;\n",
              "      fill: #D2E3FC;\n",
              "    }\n",
              "\n",
              "    [theme=dark] .colab-df-convert:hover {\n",
              "      background-color: #434B5C;\n",
              "      box-shadow: 0px 1px 3px 1px rgba(0, 0, 0, 0.15);\n",
              "      filter: drop-shadow(0px 1px 2px rgba(0, 0, 0, 0.3));\n",
              "      fill: #FFFFFF;\n",
              "    }\n",
              "  </style>\n",
              "\n",
              "      <script>\n",
              "        const buttonEl =\n",
              "          document.querySelector('#df-aa9a253f-f951-4484-89ef-1b98a239ec9e button.colab-df-convert');\n",
              "        buttonEl.style.display =\n",
              "          google.colab.kernel.accessAllowed ? 'block' : 'none';\n",
              "\n",
              "        async function convertToInteractive(key) {\n",
              "          const element = document.querySelector('#df-aa9a253f-f951-4484-89ef-1b98a239ec9e');\n",
              "          const dataTable =\n",
              "            await google.colab.kernel.invokeFunction('convertToInteractive',\n",
              "                                                     [key], {});\n",
              "          if (!dataTable) return;\n",
              "\n",
              "          const docLinkHtml = 'Like what you see? Visit the ' +\n",
              "            '<a target=\"_blank\" href=https://colab.research.google.com/notebooks/data_table.ipynb>data table notebook</a>'\n",
              "            + ' to learn more about interactive tables.';\n",
              "          element.innerHTML = '';\n",
              "          dataTable['output_type'] = 'display_data';\n",
              "          await google.colab.output.renderOutput(dataTable, element);\n",
              "          const docLink = document.createElement('div');\n",
              "          docLink.innerHTML = docLinkHtml;\n",
              "          element.appendChild(docLink);\n",
              "        }\n",
              "      </script>\n",
              "    </div>\n",
              "  </div>\n",
              "  "
            ],
            "text/plain": [
              "                  domain  ...         created_date\n",
              "530809       i.imgur.com  ...  2013-04-25 00:40:28\n",
              "530810  static.lfgss.com  ...  2013-04-09 17:59:00\n",
              "530811       twitter.com  ...  2013-05-18 15:52:50\n",
              "530812         imgur.com  ...  2013-01-08 11:00:19\n",
              "530813       i.imgur.com  ...  2013-02-15 02:55:43\n",
              "\n",
              "[5 rows x 15 columns]"
            ]
          },
          "metadata": {},
          "execution_count": 161
        }
      ]
    },
    {
      "cell_type": "code",
      "source": [
        "test_df.fillna()"
      ],
      "metadata": {
        "id": "9GkjdiJJoKNL"
      },
      "execution_count": null,
      "outputs": []
    },
    {
      "cell_type": "code",
      "source": [
        "\n"
      ],
      "metadata": {
        "id": "wr0ku3xzrCPd"
      },
      "execution_count": null,
      "outputs": []
    },
    {
      "cell_type": "code",
      "source": [
        "def test_data(df):\n",
        "  df1=df.copy()\n",
        "  df1['year']=pd.to_datetime(df1.created_date).dt.year\n",
        "  df1['month']=pd.to_datetime(df1.created_date).dt.month\n",
        "  df1.fillna(method='bfill',inplace=True)\n",
        "  df1=df1[input_cols]\n",
        "  df1['over_18']=df1['over_18'].map(code)\n",
        "  df1['is_self']=df1['is_self'].map(code)\n",
        "  df1[numerical_cols]=scaler.transform(df1[numerical_cols])\n",
        "  predict_test = model.predict(df1.fillna(0))\n",
        "  return predict_test\n"
      ],
      "metadata": {
        "id": "Q2ou7idVkHKW"
      },
      "execution_count": 183,
      "outputs": []
    },
    {
      "cell_type": "code",
      "source": [
        "submission_df=pd.DataFrame({'id':test_df.id,'score':test_data(test_df)})"
      ],
      "metadata": {
        "id": "twReA4zVmB1M"
      },
      "execution_count": 184,
      "outputs": []
    },
    {
      "cell_type": "code",
      "source": [
        "submission_df"
      ],
      "metadata": {
        "colab": {
          "base_uri": "https://localhost:8080/",
          "height": 424
        },
        "id": "Pk8xQ4WwqI1u",
        "outputId": "beac2a68-7b6d-4bdc-8ddd-0650d1dd509e"
      },
      "execution_count": 185,
      "outputs": [
        {
          "output_type": "execute_result",
          "data": {
            "text/html": [
              "\n",
              "  <div id=\"df-173b1e9f-4e29-4111-8281-d6a73cc947bf\">\n",
              "    <div class=\"colab-df-container\">\n",
              "      <div>\n",
              "<style scoped>\n",
              "    .dataframe tbody tr th:only-of-type {\n",
              "        vertical-align: middle;\n",
              "    }\n",
              "\n",
              "    .dataframe tbody tr th {\n",
              "        vertical-align: top;\n",
              "    }\n",
              "\n",
              "    .dataframe thead th {\n",
              "        text-align: right;\n",
              "    }\n",
              "</style>\n",
              "<table border=\"1\" class=\"dataframe\">\n",
              "  <thead>\n",
              "    <tr style=\"text-align: right;\">\n",
              "      <th></th>\n",
              "      <th>id</th>\n",
              "      <th>score</th>\n",
              "    </tr>\n",
              "  </thead>\n",
              "  <tbody>\n",
              "    <tr>\n",
              "      <th>0</th>\n",
              "      <td>16zj9b</td>\n",
              "      <td>261.37</td>\n",
              "    </tr>\n",
              "    <tr>\n",
              "      <th>1</th>\n",
              "      <td>16bb5r</td>\n",
              "      <td>173.74</td>\n",
              "    </tr>\n",
              "    <tr>\n",
              "      <th>2</th>\n",
              "      <td>16bcyc</td>\n",
              "      <td>186.28</td>\n",
              "    </tr>\n",
              "    <tr>\n",
              "      <th>3</th>\n",
              "      <td>16zq52</td>\n",
              "      <td>170.14</td>\n",
              "    </tr>\n",
              "    <tr>\n",
              "      <th>4</th>\n",
              "      <td>16449c</td>\n",
              "      <td>134.23</td>\n",
              "    </tr>\n",
              "    <tr>\n",
              "      <th>...</th>\n",
              "      <td>...</td>\n",
              "      <td>...</td>\n",
              "    </tr>\n",
              "    <tr>\n",
              "      <th>530809</th>\n",
              "      <td>1d1sdb</td>\n",
              "      <td>0.00</td>\n",
              "    </tr>\n",
              "    <tr>\n",
              "      <th>530810</th>\n",
              "      <td>1c04lc</td>\n",
              "      <td>0.00</td>\n",
              "    </tr>\n",
              "    <tr>\n",
              "      <th>530811</th>\n",
              "      <td>1ekwwt</td>\n",
              "      <td>0.00</td>\n",
              "    </tr>\n",
              "    <tr>\n",
              "      <th>530812</th>\n",
              "      <td>166f62</td>\n",
              "      <td>0.00</td>\n",
              "    </tr>\n",
              "    <tr>\n",
              "      <th>530813</th>\n",
              "      <td>18k4ma</td>\n",
              "      <td>0.02</td>\n",
              "    </tr>\n",
              "  </tbody>\n",
              "</table>\n",
              "<p>530814 rows × 2 columns</p>\n",
              "</div>\n",
              "      <button class=\"colab-df-convert\" onclick=\"convertToInteractive('df-173b1e9f-4e29-4111-8281-d6a73cc947bf')\"\n",
              "              title=\"Convert this dataframe to an interactive table.\"\n",
              "              style=\"display:none;\">\n",
              "        \n",
              "  <svg xmlns=\"http://www.w3.org/2000/svg\" height=\"24px\"viewBox=\"0 0 24 24\"\n",
              "       width=\"24px\">\n",
              "    <path d=\"M0 0h24v24H0V0z\" fill=\"none\"/>\n",
              "    <path d=\"M18.56 5.44l.94 2.06.94-2.06 2.06-.94-2.06-.94-.94-2.06-.94 2.06-2.06.94zm-11 1L8.5 8.5l.94-2.06 2.06-.94-2.06-.94L8.5 2.5l-.94 2.06-2.06.94zm10 10l.94 2.06.94-2.06 2.06-.94-2.06-.94-.94-2.06-.94 2.06-2.06.94z\"/><path d=\"M17.41 7.96l-1.37-1.37c-.4-.4-.92-.59-1.43-.59-.52 0-1.04.2-1.43.59L10.3 9.45l-7.72 7.72c-.78.78-.78 2.05 0 2.83L4 21.41c.39.39.9.59 1.41.59.51 0 1.02-.2 1.41-.59l7.78-7.78 2.81-2.81c.8-.78.8-2.07 0-2.86zM5.41 20L4 18.59l7.72-7.72 1.47 1.35L5.41 20z\"/>\n",
              "  </svg>\n",
              "      </button>\n",
              "      \n",
              "  <style>\n",
              "    .colab-df-container {\n",
              "      display:flex;\n",
              "      flex-wrap:wrap;\n",
              "      gap: 12px;\n",
              "    }\n",
              "\n",
              "    .colab-df-convert {\n",
              "      background-color: #E8F0FE;\n",
              "      border: none;\n",
              "      border-radius: 50%;\n",
              "      cursor: pointer;\n",
              "      display: none;\n",
              "      fill: #1967D2;\n",
              "      height: 32px;\n",
              "      padding: 0 0 0 0;\n",
              "      width: 32px;\n",
              "    }\n",
              "\n",
              "    .colab-df-convert:hover {\n",
              "      background-color: #E2EBFA;\n",
              "      box-shadow: 0px 1px 2px rgba(60, 64, 67, 0.3), 0px 1px 3px 1px rgba(60, 64, 67, 0.15);\n",
              "      fill: #174EA6;\n",
              "    }\n",
              "\n",
              "    [theme=dark] .colab-df-convert {\n",
              "      background-color: #3B4455;\n",
              "      fill: #D2E3FC;\n",
              "    }\n",
              "\n",
              "    [theme=dark] .colab-df-convert:hover {\n",
              "      background-color: #434B5C;\n",
              "      box-shadow: 0px 1px 3px 1px rgba(0, 0, 0, 0.15);\n",
              "      filter: drop-shadow(0px 1px 2px rgba(0, 0, 0, 0.3));\n",
              "      fill: #FFFFFF;\n",
              "    }\n",
              "  </style>\n",
              "\n",
              "      <script>\n",
              "        const buttonEl =\n",
              "          document.querySelector('#df-173b1e9f-4e29-4111-8281-d6a73cc947bf button.colab-df-convert');\n",
              "        buttonEl.style.display =\n",
              "          google.colab.kernel.accessAllowed ? 'block' : 'none';\n",
              "\n",
              "        async function convertToInteractive(key) {\n",
              "          const element = document.querySelector('#df-173b1e9f-4e29-4111-8281-d6a73cc947bf');\n",
              "          const dataTable =\n",
              "            await google.colab.kernel.invokeFunction('convertToInteractive',\n",
              "                                                     [key], {});\n",
              "          if (!dataTable) return;\n",
              "\n",
              "          const docLinkHtml = 'Like what you see? Visit the ' +\n",
              "            '<a target=\"_blank\" href=https://colab.research.google.com/notebooks/data_table.ipynb>data table notebook</a>'\n",
              "            + ' to learn more about interactive tables.';\n",
              "          element.innerHTML = '';\n",
              "          dataTable['output_type'] = 'display_data';\n",
              "          await google.colab.output.renderOutput(dataTable, element);\n",
              "          const docLink = document.createElement('div');\n",
              "          docLink.innerHTML = docLinkHtml;\n",
              "          element.appendChild(docLink);\n",
              "        }\n",
              "      </script>\n",
              "    </div>\n",
              "  </div>\n",
              "  "
            ],
            "text/plain": [
              "            id   score\n",
              "0       16zj9b  261.37\n",
              "1       16bb5r  173.74\n",
              "2       16bcyc  186.28\n",
              "3       16zq52  170.14\n",
              "4       16449c  134.23\n",
              "...        ...     ...\n",
              "530809  1d1sdb    0.00\n",
              "530810  1c04lc    0.00\n",
              "530811  1ekwwt    0.00\n",
              "530812  166f62    0.00\n",
              "530813  18k4ma    0.02\n",
              "\n",
              "[530814 rows x 2 columns]"
            ]
          },
          "metadata": {},
          "execution_count": 185
        }
      ]
    },
    {
      "cell_type": "code",
      "source": [
        "submission_df.to_csv('submission.csv',index=False)"
      ],
      "metadata": {
        "id": "ZK1IdPknldJC"
      },
      "execution_count": 186,
      "outputs": []
    },
    {
      "cell_type": "code",
      "source": [
        ""
      ],
      "metadata": {
        "id": "3jkJ7AyNqM_i"
      },
      "execution_count": null,
      "outputs": []
    }
  ],
  "metadata": {
    "colab": {
      "collapsed_sections": [],
      "name": "Welcome To Colaboratory",
      "provenance": [],
      "include_colab_link": true
    },
    "kernelspec": {
      "display_name": "Python 3",
      "name": "python3"
    }
  },
  "nbformat": 4,
  "nbformat_minor": 0
}